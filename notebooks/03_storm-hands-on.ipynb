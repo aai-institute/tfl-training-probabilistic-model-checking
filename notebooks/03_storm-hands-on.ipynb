{
 "cells": [
  {
   "cell_type": "code",
   "execution_count": null,
   "metadata": {},
   "outputs": [],
   "source": [
    "%%capture\n",
    "\n",
    "%load_ext autoreload\n",
    "%autoreload 2\n",
    "%matplotlib inline\n",
    "%load_ext tfl_training_probabilistic_model_checking"
   ]
  },
  {
   "cell_type": "code",
   "execution_count": null,
   "metadata": {},
   "outputs": [
    {
     "data": {
      "text/html": [
       "<style>/*\n",
       "This file is mainly copy-pasta from rise's examples\n",
       "https://github.com/damianavila/RISE/blob/master/examples/rise.css\n",
       "that was further customized for appliedAI purposes\n",
       "*/\n",
       "@import url('https://fonts.googleapis.com/css2?family=Work+Sans:wght@400&display=swap');\n",
       "\n",
       "\n",
       "body {\n",
       "    font-family: 'Work Sans', sans-serif !important;\n",
       "    text-transform: initial !important;\n",
       "    letter-spacing: initial !important;\n",
       "    font-weight: 400 !important;\n",
       "    line-height: 1.5 !important;\n",
       "    text-size-adjust: 100% !important;\n",
       "    ‑webkit‑text‑size‑adjust: 100% !important;\n",
       "}\n",
       "\n",
       "\n",
       ".reveal, div.text_cell_render, .md-slide, .sidebar-wrapper {\n",
       "    font-size: 1.5rem !important;\n",
       "}\n",
       "\n",
       ".navbar-default .navbar-nav > li > a {\n",
       "    color: #00747b !important;\n",
       "}\n",
       "\n",
       ".filename {\n",
       "    font-size: 2.4rem !important;\n",
       "    color: #212529 !important;\n",
       "    font-weight: 600 !important;\n",
       "}\n",
       "\n",
       ".reveal, .md-slide {\n",
       "    color: white !important;\n",
       "}\n",
       "\n",
       "h1, h2 {\n",
       "    color: #00747b !important;\n",
       "}\n",
       "\n",
       "h3, h4, h5, h6 {\n",
       "    color: #808080 !important;\n",
       "}\n",
       "\n",
       ".reveal p, .reveal ol, .reveal dl, .reveal ul,\n",
       "div.text_cell_render {\n",
       "    color: #212529 !important;\n",
       "}\n",
       "\n",
       "/*copied from stackoverflow, better spacing between list items*/\n",
       "li + li {\n",
       "  margin-top: 0.2em;\n",
       "}\n",
       "\n",
       "body.rise-enabled .reveal ol, body.rise-enabled .reveal dl, body.rise-enabled .reveal ul {\n",
       "    margin-left: 0.1em;\n",
       "    margin-top: 0.2em;\n",
       "}\n",
       "\n",
       ".reveal .rendered_html h1:first-child,\n",
       ".reveal .rendered_html h2:first-child,\n",
       ".reveal .rendered_html h3:first-child,\n",
       ".reveal .rendered_html h4:first-child,\n",
       ".reveal .rendered_html h5:first-child {\n",
       "    margin-top: 0.2em;\n",
       "}\n",
       "\n",
       ".CodeMirror-lines, .output_text {\n",
       "    font-size: 1.5rem !important;\n",
       "}\n",
       "\n",
       "\n",
       "h1.plan, h2.plan, h3.plan {\n",
       "    text-align: center;\n",
       "    padding-bottom: 30px;\n",
       "}\n",
       "\n",
       "ul.plan>li>span.plan-bold {\n",
       "    font-size: 110%;\n",
       "    padding: 4px;\n",
       "    font-weight: bold;\n",
       "    background-color: #eee;\n",
       "}\n",
       "\n",
       "ul.plan>li>ul.subplan>li>span.plan-bold {\n",
       "    font-weight: bold;\n",
       "}\n",
       "\n",
       ".plan-strike {\n",
       "    opacity: 0.4;\n",
       "/*    text-decoration: line-through; */\n",
       "}\n",
       "\n",
       "div.plan-container {\n",
       "    display: grid;\n",
       "    grid-template-columns: 50% 50%;\n",
       "}\n",
       "\n",
       "/*\n",
       " * this is to void xarray's html output to show the fallback textual representation\n",
       " * see also\n",
       "   * xarray.md and\n",
       "   * https://github.com/damianavila/RISE/issues/594\n",
       " */\n",
       ".reveal pre.xr-text-repr-fallback {\n",
       "    display: none;\n",
       "}\n",
       "\n",
       "#toc-header, .toc-item li {\n",
       "    margin: auto !important;\n",
       "    color: #808080 !important;\n",
       "}\n",
       "\n",
       "#toc, #toc-wrapper, .toc-item-num, #toc a, .toc {\n",
       "    margin: auto !important;\n",
       "    color: #00747b !important;\n",
       "}\n",
       "\n",
       "#toc-wrapper {\n",
       "    top: auto !important;\n",
       "    bottom: auto !important;\n",
       "    margin-top: 2rem !important;\n",
       "    color: #00747b !important;\n",
       "}\n",
       "\n",
       "\n",
       "#rise-header {\n",
       "    margin: 10px;\n",
       "    left: 5%;\n",
       "}\n",
       "\n",
       "#rise-footer {\n",
       "    margin: 10px;\n",
       "    right: 5%;\n",
       "}\n",
       "\n",
       "#rise-backimage {\n",
       "    opacity: 0.70;\n",
       "}\n",
       "\n",
       ".reveal img {\n",
       "    max-width: 100%;\n",
       "}\n",
       "\n",
       "\n",
       ".md-slide.title {\n",
       "  position: relative;\n",
       "  top: -50%;\n",
       "  margin-left: 5%;\n",
       "}</style>"
      ],
      "text/plain": [
       "<IPython.core.display.HTML object>"
      ]
     },
     "metadata": {},
     "output_type": "display_data"
    }
   ],
   "source": [
    "%presentation_style"
   ]
  },
  {
   "cell_type": "code",
   "execution_count": null,
   "metadata": {},
   "outputs": [],
   "source": [
    "%%capture\n",
    "\n",
    "%set_random_seed 12"
   ]
  },
  {
   "cell_type": "code",
   "execution_count": null,
   "metadata": {},
   "outputs": [
    {
     "data": {
      "text/markdown": [
       "\n",
       "$\\newcommand{\\vect}[1]{{\\mathbf{\\boldsymbol{#1}} }}$\n",
       "$\\newcommand{\\amax}{{\\text{argmax}}}$\n",
       "$\\newcommand{\\P}{{\\mathbb{P}}}$\n",
       "$\\newcommand{\\E}{{\\mathbb{E}}}$\n",
       "$\\newcommand{\\R}{{\\mathbb{R}}}$\n",
       "$\\newcommand{\\Z}{{\\mathbb{Z}}}$\n",
       "$\\newcommand{\\N}{{\\mathbb{N}}}$\n",
       "$\\newcommand{\\C}{{\\mathbb{C}}}$\n",
       "$\\newcommand{\\abs}[1]{{ \\left| #1 \\right| }}$\n",
       "$\\newcommand{\\simpl}[1]{{\\Delta^{#1} }}$\n"
      ],
      "text/plain": [
       "<IPython.core.display.Markdown object>"
      ]
     },
     "metadata": {},
     "output_type": "display_data"
    }
   ],
   "source": [
    "%load_latex_macros"
   ]
  },
  {
   "cell_type": "markdown",
   "metadata": {
    "hideCode": false,
    "hidePrompt": false,
    "slideshow": {
     "slide_type": "slide"
    }
   },
   "source": [
    "<center>\n",
    "    <h1>Introduction to Storm</h1>\n",
    "    <h2>Sebastian Junges and Joost-Pieter Katoen</h2>\n",
    "    <h3>using material by the Storm Developers</h3>\n",
    "    <br>\n",
    "    <br>\n",
    "<img src=\"./_static/images/storm-logo.png\" width=\"500px\"/></center>\n",
    "\n",
    "**<center>[www.stormchecker.org](https://www.stormchecker.org)</center>**\n",
    "\n",
    "<div align=\"right\">Press <em>spacebar</em> to navigate</div>"
   ]
  },
  {
   "cell_type": "markdown",
   "metadata": {},
   "source": []
  },
  {
   "cell_type": "markdown",
   "metadata": {
    "hideCode": false,
    "hidePrompt": false,
    "slideshow": {
     "slide_type": "slide"
    }
   },
   "source": [
    "## Storm\n",
    "A modern probabilistic model checker\n",
    "- **State-of-the-art**: best performance at [QComp 2020](http://qcomp.org/competition/2020/index.html)\n",
    "- **Modular**: dedicated solvers for each task, interchangable libraries\n",
    "- Written in **C++**, **Python interface** via [stormpy](https://moves-rwth.github.io/stormpy/)\n",
    "- **Open-source**, developed since 2012, over 230,000 lines of code\n",
    "\n",
    "### Getting Storm\n",
    "- Native support for *Linux* and *macOS* (homebrew formula)\n",
    "- Virtual machine and Docker containers (also for *Windows*)"
   ]
  },
  {
   "cell_type": "markdown",
   "metadata": {
    "hideCode": false,
    "hidePrompt": false,
    "slideshow": {
     "slide_type": "subslide"
    }
   },
   "source": [
    "## Hands-on presentation\n",
    "\n",
    "- This is an interactive presentation. You can **execute all commands by yourself**!\n",
    "- Navigate with *spacebar* and *shift+spacebar*\n",
    "- All interactive commands can be executed with *shift+enter*\n",
    "- Switch between presentation and notebook with *alt+r*"
   ]
  },
  {
   "cell_type": "markdown",
   "metadata": {
    "hideCode": false,
    "hidePrompt": false,
    "slideshow": {
     "slide_type": "fragment"
    }
   },
   "source": [
    "### Example"
   ]
  },
  {
   "cell_type": "code",
   "execution_count": null,
   "metadata": {
    "hideCode": false,
    "hideOutput": false,
    "hidePrompt": false,
    "slideshow": {
     "slide_type": "-"
    }
   },
   "outputs": [],
   "source": [
    "%alias storm storm #ALWAYS RUN THIS by clicking here and pressing shift+enter"
   ]
  },
  {
   "cell_type": "code",
   "execution_count": 5,
   "metadata": {},
   "outputs": [
    {
     "name": "stdout",
     "output_type": "stream",
     "text": [
      "Storm 1.8.0\n",
      "\n",
      "Date: Thu Nov 30 12:11:46 2023\n",
      "Command line arguments: --version\n",
      "Current working directory: /opt/jupyter/notebooks\n",
      "\n",
      "Version 1.8.0 (derived statically) build from revision GITDIR-NOTFOUND (potentially dirty)\n",
      "Compiled on Linux 5.15.49-linuxkit using gcc 12.2.0 with flags ' -O3 -DNDEBUG -fprefetch-loop-arrays -flto -flto-partition=none -fomit-frame-pointer'\n",
      "Linked with GNU Linear Programming Kit v5.0.\n",
      "Linked with Microsoft Z3 Optimizer v4.8 Build 12 Rev 0.\n",
      "Linked with CArL.\n"
     ]
    }
   ],
   "source": [
    "!storm --version # This should not throw an error. If it does, execute the command above"
   ]
  },
  {
   "cell_type": "markdown",
   "metadata": {
    "hideCode": false,
    "hidePrompt": false
   },
   "source": [
    "You should see the Storm version information.\n",
    "\n",
    "You can even **change the code**! Try adding the flag `--version`."
   ]
  },
  {
   "cell_type": "markdown",
   "metadata": {
    "cell_style": "center",
    "slideshow": {
     "slide_type": "slide"
    }
   },
   "source": [
    "## Knuth-Yao Die\n"
   ]
  },
  {
   "cell_type": "markdown",
   "metadata": {
    "cell_style": "split"
   },
   "source": [
    "![KYDie-depicted.png](_static/images/ky-die.png)"
   ]
  },
  {
   "cell_type": "markdown",
   "metadata": {
    "cell_style": "split"
   },
   "source": [
    "This models a dice roll with a fair coin"
   ]
  },
  {
   "cell_type": "code",
   "execution_count": 3,
   "metadata": {
    "cell_style": "split",
    "slideshow": {
     "slide_type": "-"
    }
   },
   "outputs": [
    {
     "name": "stdout",
     "output_type": "stream",
     "text": [
      "@type: DTMC\r\n",
      "@parameters\r\n",
      "\r\n",
      "@reward_models\r\n",
      "\r\n",
      "@nr_states\r\n",
      "13\r\n",
      "@nr_choices\r\n",
      "13\r\n",
      "@model\r\n",
      "state 0 init\r\n",
      "\taction 0\r\n",
      "\t\t1 : 0.5\r\n",
      "\t\t2 : 0.5\r\n",
      "state 1\r\n",
      "\taction 0\r\n",
      "\t\t3 : 0.5\r\n",
      "\t\t4 : 0.5\r\n",
      "state 2\r\n",
      "\taction 0\r\n",
      "\t\t5 : 0.5\r\n",
      "\t\t6 : 0.5\r\n",
      "state 3\r\n",
      "\taction 0\r\n",
      "\t\t1 : 0.5\r\n"
     ]
    }
   ],
   "source": [
    "!tail -n+3 examples/kydie.drn | head -n 25"
   ]
  },
  {
   "cell_type": "markdown",
   "metadata": {
    "slideshow": {
     "slide_type": "subslide"
    }
   },
   "source": [
    "## Running Storm on KY-Die"
   ]
  },
  {
   "cell_type": "code",
   "execution_count": 6,
   "metadata": {},
   "outputs": [
    {
     "name": "stdout",
     "output_type": "stream",
     "text": [
      "Storm 1.8.0\n",
      "\n",
      "Date: Thu Nov 30 12:11:53 2023\n",
      "Command line arguments: --explicit-drn examples/kydie.drn --buildfull\n",
      "Current working directory: /opt/jupyter/notebooks\n",
      "\n",
      "Time for model construction: 0.057s.\n",
      "\n",
      "-------------------------------------------------------------- \n",
      "Model type: \tDTMC (sparse)\n",
      "States: \t13\n",
      "Transitions: \t20\n",
      "Reward Models:  none\n",
      "State Labels: \t8 labels\n",
      "   * out5 -> 1 item(s)\n",
      "   * out6 -> 1 item(s)\n",
      "   * out4 -> 1 item(s)\n",
      "   * out2 -> 1 item(s)\n",
      "   * out3 -> 1 item(s)\n",
      "   * done -> 6 item(s)\n",
      "   * out1 -> 1 item(s)\n",
      "   * init -> 1 item(s)\n",
      "Choice Labels: \tnone\n",
      "-------------------------------------------------------------- \n"
     ]
    }
   ],
   "source": [
    "!storm --explicit-drn examples/kydie.drn --buildfull"
   ]
  },
  {
   "cell_type": "markdown",
   "metadata": {
    "slideshow": {
     "slide_type": "subslide"
    }
   },
   "source": [
    "### Computing Reachability Probabilities"
   ]
  },
  {
   "cell_type": "code",
   "execution_count": 3,
   "metadata": {
    "slideshow": {
     "slide_type": "-"
    }
   },
   "outputs": [
    {
     "name": "stdout",
     "output_type": "stream",
     "text": [
      "Time for model construction: 0.036s.\r\n",
      "\r\n",
      "-------------------------------------------------------------- \r\n",
      "Model type: \tDTMC (sparse)\r\n",
      "States: \t13\r\n",
      "Transitions: \t20\r\n",
      "Reward Models:  none\r\n",
      "State Labels: \t8 labels\r\n",
      "   * out5 -> 1 item(s)\r\n",
      "   * out6 -> 1 item(s)\r\n",
      "   * out4 -> 1 item(s)\r\n",
      "   * out2 -> 1 item(s)\r\n",
      "   * out3 -> 1 item(s)\r\n",
      "   * done -> 6 item(s)\r\n",
      "   * out1 -> 1 item(s)\r\n",
      "   * init -> 1 item(s)\r\n",
      "Choice Labels: \tnone\r\n",
      "-------------------------------------------------------------- \r\n",
      "\r\n",
      "Model checking property \"1\": P=? [F \"out3\"] ...\r\n",
      "Result (for initial states): 0.1666666667\r\n",
      "Time for model checking: 0.017s.\r\n"
     ]
    }
   ],
   "source": [
    "!storm --explicit-drn examples/kydie.drn --prop 'P=? [F \"out3\" ]' | tail -n+7"
   ]
  },
  {
   "cell_type": "markdown",
   "metadata": {
    "slideshow": {
     "slide_type": "subslide"
    }
   },
   "source": [
    "### Computing Exected Time (steps)"
   ]
  },
  {
   "cell_type": "code",
   "execution_count": 7,
   "metadata": {
    "slideshow": {
     "slide_type": "-"
    }
   },
   "outputs": [
    {
     "name": "stdout",
     "output_type": "stream",
     "text": [
      "Time for model construction: 0.036s.\r\n",
      "\r\n",
      "-------------------------------------------------------------- \r\n",
      "Model type: \tDTMC (sparse)\r\n",
      "States: \t13\r\n",
      "Transitions: \t20\r\n",
      "Reward Models:  none\r\n",
      "State Labels: \t8 labels\r\n",
      "   * out5 -> 1 item(s)\r\n",
      "   * out6 -> 1 item(s)\r\n",
      "   * out4 -> 1 item(s)\r\n",
      "   * out2 -> 1 item(s)\r\n",
      "   * out3 -> 1 item(s)\r\n",
      "   * done -> 6 item(s)\r\n",
      "   * out1 -> 1 item(s)\r\n",
      "   * init -> 1 item(s)\r\n",
      "Choice Labels: \tnone\r\n",
      "-------------------------------------------------------------- \r\n",
      "\r\n",
      "Model checking property \"1\": T[exp]=? [F \"done\"] ...\r\n",
      "Result (for initial states): 3.666666667\r\n",
      "Time for model checking: 0.011s.\r\n"
     ]
    }
   ],
   "source": [
    "!storm --explicit-drn examples/kydie.drn --prop 'T=? [F \"done\" ]' | tail -n+7"
   ]
  },
  {
   "cell_type": "markdown",
   "metadata": {
    "hideCode": false,
    "hidePrompt": false,
    "slideshow": {
     "slide_type": "slide"
    }
   },
   "source": [
    "## Input formats\n",
    "- Storm supports a variety of input formats:\n",
    "    - [Prism language](https://www.prismmodelchecker.org/manual/ThePRISMLanguage/Introduction)\n",
    "    - [Jani modelling language](http://www.jani-spec.org/)\n",
    "    - Explicit format\n",
    "    - Generalized stochastic Petri nets\n",
    "    - Domain specific languages, e.g., Dynamic Fault Trees"
   ]
  },
  {
   "cell_type": "markdown",
   "metadata": {
    "slideshow": {
     "slide_type": "slide"
    }
   },
   "source": [
    "## Intro to Prism format"
   ]
  },
  {
   "cell_type": "markdown",
   "metadata": {
    "cell_style": "split",
    "slideshow": {
     "slide_type": "subslide"
    }
   },
   "source": [
    "## KY-die with Prism\n",
    "\n",
    "Naive encoding:\n",
    "- Variable *s* encodes the state\n",
    "- Describe an update for every state\n",
    "- Single module"
   ]
  },
  {
   "cell_type": "code",
   "execution_count": 4,
   "metadata": {
    "cell_style": "split"
   },
   "outputs": [
    {
     "name": "stdout",
     "output_type": "stream",
     "text": [
      "module main\r\n",
      "    s : [0..12] init 0;\r\n",
      "    [] s=0 -> 0.5:(s'=1) + 0.5:(s'=2);\r\n",
      "    [] s=1 -> 0.5:(s'=3) + 0.5:(s'=4);\r\n",
      "    [] s=2 -> 0.5:(s'=5) + 0.5:(s'=6);\r\n",
      "    [] s=3 -> 0.5:(s'=1) + 0.5:(s'=7);\r\n",
      "    [] s=4 -> 0.5:(s'=8) + 0.5:(s'=9);\r\n",
      "    [] s=5 -> 0.5:(s'=2) + 0.5:(s'=10);\r\n",
      "    [] s=6 -> 0.5:(s'=11) + 0.5:(s'=12);\r\n",
      "    [] s>6 -> 1:(s'=s);\r\n",
      "endmodule\r\n",
      "\r\n",
      "label \"out1\" = s=7;\r\n",
      "label \"out2\" = s=8;\r\n",
      "label \"out3\" = s=9;\r\n",
      "label \"out4\" = s=10;\r\n"
     ]
    }
   ],
   "source": [
    "!tail -n20 examples/kydie-naive.prism | head -n 16"
   ]
  },
  {
   "cell_type": "markdown",
   "metadata": {
    "jp-MarkdownHeadingCollapsed": true,
    "slideshow": {
     "slide_type": "subslide"
    },
    "tags": []
   },
   "source": [
    "## Single-Module Prism\n",
    "\n",
    " - A module contains declarations of (local) variables and commands.\n",
    " \n",
    " - Commands\n",
    "  $$\n",
    "\\textbf{[}action\\textbf{]}~ \\text{guard} ~\\textbf{->}~ \\text{probability}\\textbf{:} \\text{update} \\textbf{ + }\\text{probability}\\textbf{:} \\text{update} + \\dots\n",
    "  $$\n",
    "  where\n",
    "    - *action*: Synchronization label (may be empty)\n",
    "    - *guard*: Boolean expression over local and global variables\n",
    "    - *probability*: Expression, evaluates to value between 0 and 1. The probabilities of each command must sum up to 1.\n",
    "    - *update*: Assigns new values to (a subset of) the variables. \n",
    "    $$\\texttt{var}' = f(\\texttt{vars})$$\n",
    "\n",
    "- Every action refers to an action in the MDP"
   ]
  },
  {
   "cell_type": "markdown",
   "metadata": {
    "cell_style": "split",
    "slideshow": {
     "slide_type": "subslide"
    }
   },
   "source": [
    "## Gridworld with Prism\n",
    "\n",
    "- Robot in an N by N grid\n",
    "- Own position given by x,y\n",
    "- Up to 4 actions"
   ]
  },
  {
   "cell_type": "code",
   "execution_count": 8,
   "metadata": {
    "cell_style": "split"
   },
   "outputs": [
    {
     "name": "stdout",
     "output_type": "stream",
     "text": [
      "mdp\r\n",
      "\r\n",
      "const int N;\r\n",
      "\r\n",
      "module main\r\n",
      "   x : [0..N] init 3;\r\n",
      "   y : [0..N] init 3;\r\n",
      "\r\n",
      "   [north] x > 1 -> 0.9:(x'=x-1) + 0.1:(x'=x);\r\n",
      "   [south] x < N -> 0.9:(x'=x+1) + 0.1:(x'=x);\r\n",
      "   [west] y > 1 -> 0.8:(y'=y-1) + 0.2:(y'=y);\r\n",
      "   [east] y < N -> 0.8:(y'=y+1) + 0.2:(y'=y);\r\n",
      "endmodule\r\n"
     ]
    }
   ],
   "source": [
    "!cat examples/grid.prism"
   ]
  },
  {
   "cell_type": "markdown",
   "metadata": {
    "cell_style": "split",
    "slideshow": {
     "slide_type": "subslide"
    }
   },
   "source": [
    "## Gridworld with Prism\n",
    "\n",
    "- Robot in an N by N grid\n",
    "- Own position given by x,y\n",
    "- Up to 4 actions"
   ]
  },
  {
   "cell_type": "code",
   "execution_count": 10,
   "metadata": {
    "cell_style": "split",
    "slideshow": {
     "slide_type": "fragment"
    }
   },
   "outputs": [
    {
     "name": "stdout",
     "output_type": "stream",
     "text": [
      "\r\n",
      "Time for model input parsing: 0.050s.\r\n",
      "\r\n",
      "Time for model construction: 0.194s.\r\n",
      "\r\n",
      "-------------------------------------------------------------- \r\n",
      "Model type: \tMDP (sparse)\r\n",
      "States: \t100\r\n",
      "Transitions: \t720\r\n",
      "Choices: \t360\r\n"
     ]
    }
   ],
   "source": [
    "!storm --prism examples/grid.prism -const N=10 | tail -n+6 | head -n 10"
   ]
  },
  {
   "cell_type": "code",
   "execution_count": 10,
   "metadata": {
    "slideshow": {
     "slide_type": "fragment"
    }
   },
   "outputs": [
    {
     "name": "stdout",
     "output_type": "stream",
     "text": [
      "Model checking property \"1\": T[exp]min=? [F ((y = 60) & (x = 60))] ...\r\n",
      "Result (for initial states): 134.583334\r\n",
      "Time for model checking: 0.007s.\r\n"
     ]
    }
   ],
   "source": [
    "!storm --prism examples/grid.prism -const N=60 --prop \"Tmin=? [F y=N & x=N]\" | tail -n 3"
   ]
  },
  {
   "cell_type": "markdown",
   "metadata": {
    "slideshow": {
     "slide_type": "slide"
    }
   },
   "source": [
    "# Advanced properties\n",
    "\n",
    "We consider a selection of slightly more advanced queries"
   ]
  },
  {
   "cell_type": "markdown",
   "metadata": {
    "slideshow": {
     "slide_type": "fragment"
    }
   },
   "source": [
    "We therefore also extend the MDP description..."
   ]
  },
  {
   "cell_type": "code",
   "execution_count": 30,
   "metadata": {},
   "outputs": [
    {
     "name": "stdout",
     "output_type": "stream",
     "text": [
      "\r\n",
      "label \"station\" = x=4 & y=1;\r\n",
      "label \"castle\" = x=1 & y=N-1;\r\n",
      "formula grass =  y = 3 | x=2;\r\n",
      "\r\n",
      "rewards \"movementcost\"\r\n",
      "    grass : 2;\r\n",
      "    !grass : 1;\r\n",
      "endrewards\r\n",
      "\r\n"
     ]
    }
   ],
   "source": [
    "!tail -n 10 examples/grid_complete.prism"
   ]
  },
  {
   "cell_type": "markdown",
   "metadata": {
    "slideshow": {
     "slide_type": "subslide"
    }
   },
   "source": [
    "## Cost-bounded reachability\n",
    "\n",
    "- Simple extension to reachability\n",
    "- Storm can handle multi-reward-bounded formulas and compute quantiles"
   ]
  },
  {
   "cell_type": "code",
   "execution_count": 31,
   "metadata": {},
   "outputs": [
    {
     "name": "stdout",
     "output_type": "stream",
     "text": [
      "\n",
      "Time for model construction: 0.246s.\n",
      "\n",
      "-------------------------------------------------------------- \n",
      "Model type: \tMDP (sparse)\n",
      "States: \t900\n",
      "Transitions: \t6955\n",
      "Choices: \t3478\n",
      "Reward Models:  movementcost\n",
      "State Labels: \t3 labels\n",
      "   * deadlock -> 0 item(s)\n",
      "   * init -> 1 item(s)\n",
      "   * castle -> 1 item(s)\n",
      "Choice Labels: \tnone\n",
      "-------------------------------------------------------------- \n",
      "\n",
      "Model checking property \"1\": Pmax=? [true Urew{\"movementcost\"}<=40 \"castle\"] ...\n",
      "Result (for initial states): 0.9060504552\n",
      "Time for model checking: 0.188s.\n"
     ]
    }
   ],
   "source": [
    "!storm --prism examples/grid_complete.prism -const N=30 --prop \"Pmax=? [F{\\\"movementcost\\\"}<=40 \\\"castle\\\"]\" | tail -n+8"
   ]
  },
  {
   "cell_type": "markdown",
   "metadata": {
    "slideshow": {
     "slide_type": "subslide"
    },
    "tags": []
   },
   "source": [
    "## LTL properties"
   ]
  },
  {
   "cell_type": "code",
   "execution_count": 14,
   "metadata": {
    "slideshow": {
     "slide_type": "fragment"
    }
   },
   "outputs": [
    {
     "name": "stdout",
     "output_type": "stream",
     "text": [
      "Model checking property \"1\": Pmax=? [G F (\"station\" & (G F \"castle\"))] ...\r\n",
      "Result (for initial states): 1\r\n",
      "Time for model checking: 0.076s.\r\n"
     ]
    }
   ],
   "source": [
    "!storm --prism examples/grid_complete.prism -const N=6 --prop \"Pmax=? [GF \\\"station\\\" & GF \\\"castle\\\"]\" | tail -n 3"
   ]
  },
  {
   "cell_type": "code",
   "execution_count": 13,
   "metadata": {
    "slideshow": {
     "slide_type": "fragment"
    }
   },
   "outputs": [
    {
     "name": "stdout",
     "output_type": "stream",
     "text": [
      "Model checking property \"1\": Pmax=? [true U<=7 (\"station\" & (true U<=7 \"castle\"))] ...\r\n",
      "Result (for initial states): 0.4255827145\r\n",
      "Time for model checking: 0.195s.\r\n"
     ]
    }
   ],
   "source": [
    "!storm --prism examples/grid_complete.prism -const N=6 --prop \"Pmax=? [F<=7 \\\"station\\\" & F<=7 \\\"castle\\\"]\" | tail -n 3"
   ]
  },
  {
   "cell_type": "code",
   "execution_count": 12,
   "metadata": {
    "slideshow": {
     "slide_type": "fragment"
    }
   },
   "outputs": [
    {
     "name": "stdout",
     "output_type": "stream",
     "text": [
      "Model checking property \"1\": Pmax=? [true U<=7 \"station\"] ...\r\n",
      "Result (for initial states): 0.9998235\r\n",
      "Time for model checking: 0.006s.\r\n",
      "\r\n",
      "Model checking property \"2\": Pmax=? [true U<=7 \"castle\"] ...\r\n",
      "Result (for initial states): 0.966656\r\n",
      "Time for model checking: 0.000s.\r\n"
     ]
    }
   ],
   "source": [
    "!storm --prism examples/grid_complete.prism -const N=6 --prop \"Pmax=? [F<=7 \\\"station\\\"];Pmax=? [F<=7 \\\"castle\\\"]\" | tail -n7\n"
   ]
  },
  {
   "cell_type": "markdown",
   "metadata": {
    "slideshow": {
     "slide_type": "subslide"
    }
   },
   "source": [
    "## Extracting Policies ('Schedulers')"
   ]
  },
  {
   "cell_type": "code",
   "execution_count": 32,
   "metadata": {
    "cell_style": "split",
    "slideshow": {
     "slide_type": "fragment"
    }
   },
   "outputs": [
    {
     "name": "stdout",
     "output_type": "stream",
     "text": [
      "\r\n",
      "Model checking property \"1\": T[exp]min=? [F ((x = 3) & (y > 4))] ...\r\n",
      "Exporting scheduler ...  WARN (model-handling.h:1126): No information of state valuations available. The scheduler output will use internal state ids. You might be interested in building the model with state valuations using --buildstateval.\r\n",
      " WARN (model-handling.h:1129): No symbolic choice information is available. The scheduler output will use internal choice ids. You might be interested in building the model with choice labels or choice origins using --buildchoicelab or --buildchoiceorig.\r\n",
      " WARN (model-handling.h:1133): Only partial choice information is available. You might want to build the model with choice origins using --buildchoicelab or --buildchoiceorig.\r\n",
      "Write to file plain.sched.\r\n",
      "Result (for initial states): 2.5\r\n",
      "Time for model checking: 0.010s.\r\n"
     ]
    }
   ],
   "source": [
    "!storm --prism examples/grid.prism -const N=6 --prop \"Tmin=? [F x=3 & y > 4]\" --exportscheduler plain.sched | tail -n8"
   ]
  },
  {
   "cell_type": "code",
   "execution_count": 17,
   "metadata": {
    "cell_style": "split"
   },
   "outputs": [
    {
     "name": "stdout",
     "output_type": "stream",
     "text": [
      "___________________________________________________________________\r\n",
      "Fully defined memoryless deterministic scheduler:\r\n",
      "model state:    choice(s)\r\n",
      "           0    3\r\n",
      "           1    3\r\n",
      "           2    3\r\n",
      "           3    3\r\n",
      "           4    3\r\n",
      "           5    2\r\n",
      "           6    1\r\n"
     ]
    }
   ],
   "source": [
    "!head -n10 plain.sched"
   ]
  },
  {
   "cell_type": "markdown",
   "metadata": {
    "slideshow": {
     "slide_type": "subslide"
    }
   },
   "source": [
    "## Extracting Policies "
   ]
  },
  {
   "cell_type": "code",
   "execution_count": 33,
   "metadata": {
    "cell_style": "split",
    "slideshow": {
     "slide_type": "fragment"
    }
   },
   "outputs": [
    {
     "name": "stdout",
     "output_type": "stream",
     "text": [
      "Model checking property \"1\": T[exp]min=? [F ((x = 3) & (y > 4))] ...\r\n",
      "Exporting scheduler ... Write to file high.sched.\r\n",
      "Result (for initial states): 2.5\r\n",
      "Time for model checking: 0.008s.\r\n"
     ]
    }
   ],
   "source": [
    "!storm --prism examples/grid.prism -const N=6 --prop \"Tmin=? [F x=3 & y > 4]\" --exportscheduler high.sched --buildchoicelab --buildstateval | tail -n4"
   ]
  },
  {
   "cell_type": "code",
   "execution_count": 34,
   "metadata": {
    "cell_style": "split",
    "slideshow": {
     "slide_type": "-"
    }
   },
   "outputs": [
    {
     "name": "stdout",
     "output_type": "stream",
     "text": [
      "___________________________________________________________________\r\n",
      "Fully defined memoryless deterministic scheduler:\r\n",
      "      model state:    choice(s)\r\n",
      "    0: [x=3\t& y=3]    3 {east}\r\n",
      "    1: [x=2\t& y=3]    1 {south}\r\n",
      "    2: [x=4\t& y=3]    0 {north}\r\n",
      "    3: [x=3\t& y=2]    3 {east}\r\n",
      "    4: [x=3\t& y=4]    3 {east}\r\n",
      "    5: [x=1\t& y=3]    0 {south}\r\n",
      "    6: [x=2\t& y=2]    1 {south}\r\n"
     ]
    }
   ],
   "source": [
    "!head -n10 high.sched"
   ]
  },
  {
   "cell_type": "markdown",
   "metadata": {
    "slideshow": {
     "slide_type": "slide"
    }
   },
   "source": [
    "# Methods and Engines"
   ]
  },
  {
   "cell_type": "markdown",
   "metadata": {
    "hideCode": false,
    "hidePrompt": false,
    "slideshow": {
     "slide_type": "subslide"
    }
   },
   "source": [
    "## Computing exact values\n",
    "- Floating point arithmetic and convergence criteria might not be precise  \n",
    "  &#10140; use exact (rational) numbers and sound algorithms off-the-shelf\n",
    "- Drawback: performance decreases"
   ]
  },
  {
   "cell_type": "code",
   "execution_count": 22,
   "metadata": {
    "cell_style": "center",
    "hideCode": false,
    "hidePrompt": false,
    "slideshow": {
     "slide_type": "fragment"
    }
   },
   "outputs": [
    {
     "name": "stdout",
     "output_type": "stream",
     "text": [
      "Result (for initial states): 0.1666666667\r\n",
      "Time for model checking: 0.011s.\r\n"
     ]
    }
   ],
   "source": [
    "!storm --explicit-drn examples/kydie.drn --prop 'P=? [F \"out1\"]' | tail -n2"
   ]
  },
  {
   "cell_type": "code",
   "execution_count": 23,
   "metadata": {
    "cell_style": "center",
    "hideCode": false,
    "hidePrompt": false,
    "slideshow": {
     "slide_type": "fragment"
    }
   },
   "outputs": [
    {
     "name": "stdout",
     "output_type": "stream",
     "text": [
      "Result (for initial states): 1/6 (approx. 0.1666666667)\r\n",
      "Time for model checking: 0.018s.\r\n"
     ]
    }
   ],
   "source": [
    "!storm --explicit-drn examples/kydie.drn --prop 'P=? [F \"out1\"]' --exact | tail -n2"
   ]
  },
  {
   "cell_type": "markdown",
   "metadata": {
    "slideshow": {
     "slide_type": "subslide"
    }
   },
   "source": [
    "## Different methods\n",
    "- Variations of value iteration with stronger guarantees\n",
    "- Policy iteration, hybrid methods\n",
    "- Abstraction-based approaches"
   ]
  },
  {
   "cell_type": "code",
   "execution_count": 24,
   "metadata": {
    "slideshow": {
     "slide_type": "fragment"
    }
   },
   "outputs": [
    {
     "name": "stdout",
     "output_type": "stream",
     "text": [
      "Model checking property \"1\": T[exp]min=? [F ((x = 3) & (y > 4))] ...\r\n",
      "Result (for initial states): 7.222222222\r\n",
      "Time for model checking: 7.448s.\r\n"
     ]
    }
   ],
   "source": [
    "!storm --prism examples/grid_complete.prism -const N=40 --prop \"Tmin=? [F x=3 & y>4]\" --minmax:method lp | tail -n3"
   ]
  },
  {
   "cell_type": "code",
   "execution_count": 25,
   "metadata": {
    "slideshow": {
     "slide_type": "fragment"
    }
   },
   "outputs": [
    {
     "name": "stdout",
     "output_type": "stream",
     "text": [
      "Model checking property \"1\": T[exp]min=? [F ((x = 3) & (y > 4))] ...\r\n",
      "Result (for initial states): 7.222222222\r\n",
      "Time for model checking: 0.031s.\r\n"
     ]
    }
   ],
   "source": [
    "!storm --prism examples/grid_complete.prism -const N=40 --prop \"Tmin=? [F x=3 & y>4]\" --minmax:method vi | tail -n3"
   ]
  },
  {
   "cell_type": "markdown",
   "metadata": {
    "hideCode": false,
    "hidePrompt": false,
    "slideshow": {
     "slide_type": "subslide"
    }
   },
   "source": [
    "## Engines in Storm\n",
    "Storm supports different model representations:\n",
    "- **Sparse matrix**:\n",
    "    - Model building is time and memory intensive\n",
    "    - Fast numerical computations\n",
    "- **Binary Decision Diagrams (BDD)**:\n",
    "    - Fast and memory efficient model building if model is structured\n",
    "    - Slower numerical computations\n",
    "- **Hybrid** approach:\n",
    "    - Build with BDD, use sparse matrix for numerical computations\n",
    "- ..."
   ]
  },
  {
   "cell_type": "markdown",
   "metadata": {
    "hideCode": false,
    "hidePrompt": false,
    "slideshow": {
     "slide_type": "subslide"
    }
   },
   "source": [
    "## Engines in Storm"
   ]
  },
  {
   "cell_type": "code",
   "execution_count": 26,
   "metadata": {
    "cell_style": "split",
    "hideCode": false,
    "hidePrompt": false,
    "scrolled": true,
    "slideshow": {
     "slide_type": "fragment"
    }
   },
   "outputs": [
    {
     "name": "stdout",
     "output_type": "stream",
     "text": [
      "Model checking property \"1\": T[exp]min=? [F ((x = 3) & (y > 4))] ...\r\n",
      "Result (for initial states): 2.5\r\n",
      "Time for model checking: 16.435s.\r\n"
     ]
    }
   ],
   "source": [
    "!storm --prism examples/grid.prism -const N=800 --prop 'Tmin=? [F x=3 & y > 4]' -e dd --minmax:method vi | tail -n 3"
   ]
  },
  {
   "cell_type": "code",
   "execution_count": 27,
   "metadata": {
    "cell_style": "split",
    "hideCode": false,
    "hidePrompt": false,
    "slideshow": {
     "slide_type": "fragment"
    }
   },
   "outputs": [
    {
     "name": "stdout",
     "output_type": "stream",
     "text": [
      "Model checking property \"1\": T[exp]min=? [F ((x = 3) & (y > 4))] ...\r\n",
      "Result (for initial states): 2.5\r\n",
      "Time for model checking: 112.544s.\r\n"
     ]
    }
   ],
   "source": [
    "!storm --prism examples/grid.prism -const N=800 --prop 'Tmin=? [F x=3 & y > 4]' -e sparse --minmax:method vi | tail -n 3"
   ]
  },
  {
   "cell_type": "markdown",
   "metadata": {
    "hideCode": false,
    "hidePrompt": false,
    "slideshow": {
     "slide_type": "subslide"
    }
   },
   "source": [
    "## Bisimulation minimization\n",
    "- Reduces state-space size without loosing information\n",
    "- Exploits symmetries"
   ]
  },
  {
   "cell_type": "code",
   "execution_count": 28,
   "metadata": {
    "cell_style": "center",
    "hideCode": false,
    "hidePrompt": false,
    "slideshow": {
     "slide_type": "-"
    }
   },
   "outputs": [
    {
     "name": "stdout",
     "output_type": "stream",
     "text": [
      "Time for model construction: 0.258s.\r\n",
      "\r\n",
      "-------------------------------------------------------------- \r\n",
      "Model type: \tMDP (sparse)\r\n",
      "States: \t956\r\n",
      "Transitions: \t3048\r\n",
      "Choices: \t2694\r\n",
      "Reward Models:  none\r\n",
      "State Labels: \t4 labels\r\n",
      "   * deadlock -> 0 item(s)\r\n",
      "   * init -> 1 item(s)\r\n",
      "   * hungry -> 922 item(s)\r\n",
      "   * eat -> 240 item(s)\r\n",
      "Choice Labels: \tnone\r\n",
      "-------------------------------------------------------------- \r\n",
      "\r\n",
      "Time for model preprocessing: 0.057s.\r\n",
      "\r\n",
      "-------------------------------------------------------------- \r\n",
      "Model type: \tMDP (sparse)\r\n",
      "States: \t172\r\n",
      "Transitions: \t517\r\n",
      "Choices: \t461\r\n",
      "Reward Models:  none\r\n",
      "State Labels: \t3 labels\r\n",
      "   * init -> 1 item(s)\r\n",
      "   * hungry -> 164 item(s)\r\n",
      "   * eat -> 44 item(s)\r\n",
      "Choice Labels: \tnone\r\n",
      "-------------------------------------------------------------- \r\n"
     ]
    }
   ],
   "source": [
    "!storm --bisimulation --prism examples/phil-nofair3.nm --prop 'filter(forall, P>=1 [F \"eat\"], \"hungry\")' |tail -n+9 | head -n 30"
   ]
  },
  {
   "cell_type": "markdown",
   "metadata": {
    "hideCode": false,
    "hidePrompt": false,
    "slideshow": {
     "slide_type": "slide"
    }
   },
   "source": [
    "## Summary\n",
    "- Basic introduction to **Storm command-line interface**\n",
    "- Storm supports broad range of **models and properties** given in high-level description languages\n",
    "- Different **engines** allow tailored analysis per model and property\n",
    "\n",
    "### Next:\n",
    "Model checking **in the loop** using Stormpy"
   ]
  },
  {
   "cell_type": "markdown",
   "metadata": {
    "slideshow": {
     "slide_type": "slide"
    }
   },
   "source": [
    "# Intro to Stormpy"
   ]
  },
  {
   "cell_type": "markdown",
   "metadata": {
    "slideshow": {
     "slide_type": "fragment"
    }
   },
   "source": [
    "- Basic model checking\n",
    "- Tradeoff analysis\n",
    "- Robustness analysis\n",
    "- Simulation engines"
   ]
  },
  {
   "cell_type": "code",
   "execution_count": 12,
   "metadata": {
    "slideshow": {
     "slide_type": "fragment"
    }
   },
   "outputs": [
    {
     "name": "stdout",
     "output_type": "stream",
     "text": [
      "Stormpy version: 1.8.0 using Storm in version: 1.8.0\n"
     ]
    }
   ],
   "source": [
    "import stormpy\n",
    "import stormpy.info\n",
    "\n",
    "print(\"Stormpy version: \" + stormpy.__version__ + \" using Storm in version: \" + stormpy.info.storm_version())"
   ]
  },
  {
   "cell_type": "markdown",
   "metadata": {
    "slideshow": {
     "slide_type": "slide"
    }
   },
   "source": [
    "## Basic Model Checking"
   ]
  },
  {
   "cell_type": "markdown",
   "metadata": {
    "slideshow": {
     "slide_type": "fragment"
    }
   },
   "source": [
    "- Parse input-description and translate into MDP"
   ]
  },
  {
   "cell_type": "code",
   "execution_count": 13,
   "metadata": {
    "slideshow": {
     "slide_type": "-"
    }
   },
   "outputs": [],
   "source": [
    "orig_program = stormpy.parse_prism_program(\"examples/grid_slip_forward.prism\")\n",
    "program = orig_program.define_constants(stormpy.parse_consta nts_string(orig_program.expression_manager, \"N=6,p=0.9,q=0.7\"))"
   ]
  },
  {
   "cell_type": "code",
   "execution_count": 14,
   "metadata": {
    "slideshow": {
     "slide_type": "-"
    }
   },
   "outputs": [
    {
     "name": "stdout",
     "output_type": "stream",
     "text": [
      "Number of states: 48\n",
      "Labels: {'deadlock', 'station', 'init', 'castle'}\n"
     ]
    }
   ],
   "source": [
    "options = stormpy.BuilderOptions(True, True)\n",
    "options.set_build_state_valuations() \n",
    "options.set_build_choice_labels()\n",
    "model = stormpy.build_sparse_model_with_options(program, options)\n",
    "print(\"Number of states: {}\".format(model.nr_states))\n",
    "print(\"Labels: {}\".format(model.labeling.get_labels()))"
   ]
  },
  {
   "cell_type": "markdown",
   "metadata": {
    "slideshow": {
     "slide_type": "fragment"
    }
   },
   "source": [
    "- Run model checking query"
   ]
  },
  {
   "cell_type": "code",
   "execution_count": 17,
   "metadata": {},
   "outputs": [
    {
     "name": "stdout",
     "output_type": "stream",
     "text": [
      "0.6958\n"
     ]
    }
   ],
   "source": [
    "properties = stormpy.parse_properties(\"Pmax=? [F<=4 \\\"station\\\"]\")\n",
    "result = stormpy.model_checking(model, properties[0])\n",
    "print(result.at(model.initial_states[0]))"
   ]
  },
  {
   "cell_type": "markdown",
   "metadata": {
    "slideshow": {
     "slide_type": "slide"
    }
   },
   "source": [
    "## Tradeoff analysis"
   ]
  },
  {
   "cell_type": "markdown",
   "metadata": {
    "slideshow": {
     "slide_type": "fragment"
    }
   },
   "source": [
    "- Find values that can be achieved by a single policy"
   ]
  },
  {
   "cell_type": "code",
   "execution_count": 18,
   "metadata": {
    "slideshow": {
     "slide_type": "-"
    }
   },
   "outputs": [
    {
     "name": "stdout",
     "output_type": "stream",
     "text": [
      "[[1.0, 0.04899999999999984], [0.2095549336299997, 0.86810446], [0.6785109999999998, 0.49000000000000016], [0.6394090000000007, 0.5291019999999993], [0.3872408782000002, 0.7571695599999997], [0.22331658280000125, 0.8629031799999994], [0.2590356954999999, 0.8492238999999998]]\n"
     ]
    }
   ],
   "source": [
    "from stormpy.utility.multiobjective_plotting import prepare_multiobjective_result_for_plotting, plot_convex_pareto_curve_demo\n",
    "\n",
    "properties = stormpy.parse_properties_for_prism_program(\"multi(Pmax=? [ F<=11 \\\"castle\\\" ], Pmax=? [ F<=8 \\\"station\\\" ])\", program)\n",
    "result = stormpy.model_checking(model,properties[0])\n",
    "print(result.get_underapproximation().vertices)"
   ]
  },
  {
   "cell_type": "markdown",
   "metadata": {
    "slideshow": {
     "slide_type": "fragment"
    }
   },
   "source": [
    "- Plot the outcome"
   ]
  },
  {
   "cell_type": "code",
   "execution_count": 19,
   "metadata": {
    "slideshow": {
     "slide_type": "-"
    }
   },
   "outputs": [
    {
     "data": {
      "text/plain": [
       "Text(0, 0.5, 'Pmax=? [true U<=8 \"station\"]')"
      ]
     },
     "execution_count": 19,
     "metadata": {},
     "output_type": "execute_result"
    },
    {
     "data": {
      "image/png": "[encoded data removed]",
      "text/plain": [
       "<Figure size 640x480 with 1 Axes>"
      ]
     },
     "metadata": {},
     "output_type": "display_data"
    }
   ],
   "source": [
    "import matplotlib.pyplot as plt\n",
    "\n",
    "lower_left = [0,0]\n",
    "upper_right = [1,1]\n",
    "formula = properties[0].raw_formula\n",
    "fig, ax = plt.subplots()\n",
    "\n",
    "underapprox_points, overapprox_points = prepare_multiobjective_result_for_plotting(result, lower_left, upper_right,  formula)\n",
    "plot_convex_pareto_curve_demo(ax, underapprox_points, overapprox_points, lower_left, upper_right)\n",
    "ax.set_xlabel(formula.subformulas[0])\n",
    "ax.set_ylabel(formula.subformulas[1])"
   ]
  },
  {
   "cell_type": "markdown",
   "metadata": {
    "slideshow": {
     "slide_type": "slide"
    }
   },
   "source": [
    "## Robustness with Parametric Checking"
   ]
  },
  {
   "cell_type": "markdown",
   "metadata": {
    "slideshow": {
     "slide_type": "subslide"
    }
   },
   "source": [
    "### Step 1: Compute an optimal policy"
   ]
  },
  {
   "cell_type": "code",
   "execution_count": 54,
   "metadata": {},
   "outputs": [
    {
     "name": "stdout",
     "output_type": "stream",
     "text": [
      "5.766754533479275\n"
     ]
    }
   ],
   "source": [
    "properties = stormpy.parse_properties(\"R{\\\"movecost\\\"}min=? [ F \\\"station\\\"]\")\n",
    "result = stormpy.model_checking(model, properties[0], extract_scheduler=True)\n",
    "scheduler = result.scheduler\n",
    "print(result.at(model.initial_states[0]))"
   ]
  },
  {
   "cell_type": "markdown",
   "metadata": {
    "slideshow": {
     "slide_type": "subslide"
    }
   },
   "source": [
    "### Step 2: Set-up an MDP with parametric slipiness"
   ]
  },
  {
   "cell_type": "code",
   "execution_count": 55,
   "metadata": {},
   "outputs": [
    {
     "name": "stdout",
     "output_type": "stream",
     "text": [
      "Number of states: 48\n",
      "Number of transitions: 258\n",
      "Labels: {'station', 'deadlock', 'castle', 'init'}\n"
     ]
    }
   ],
   "source": [
    "program2 = orig_program.define_constants(stormpy.parse_constants_string(orig_program.expression_manager, \"N=6, q=p\"))\n",
    "parametric_model = stormpy.build_sparse_parametric_model_with_options(program2, options)\n",
    "print(\"Number of states: {}\".format(model.nr_states))\n",
    "print(\"Number of transitions: {}\".format(model.nr_transitions))\n",
    "print(\"Labels: {}\".format(model.labeling.get_labels()))"
   ]
  },
  {
   "cell_type": "markdown",
   "metadata": {
    "slideshow": {
     "slide_type": "subslide"
    }
   },
   "source": [
    "### Step 3: Apply the policy on this parametetric MDP and evaluate performance"
   ]
  },
  {
   "cell_type": "code",
   "execution_count": 56,
   "metadata": {},
   "outputs": [],
   "source": [
    "induced_model = parametric_model.apply_scheduler(scheduler.cast_to_parametric_datatype())"
   ]
  },
  {
   "cell_type": "code",
   "execution_count": 57,
   "metadata": {
    "slideshow": {
     "slide_type": "fragment"
    }
   },
   "outputs": [
    {
     "name": "stdout",
     "output_type": "stream",
     "text": [
      "(p^6+62*p^2+(-58)*p^3+30*p^4+(-7)*p^5+(-34)*p+8)/((2*p^2+(-2)*p+1) * (2*p^4+6*p^2+(-4)*p^3+(-4)*p+1))\n"
     ]
    }
   ],
   "source": [
    "result = stormpy.model_checking(induced_model, properties[0]).at(induced_model.initial_states[0])\n",
    "print(result)"
   ]
  },
  {
   "cell_type": "code",
   "execution_count": 58,
   "metadata": {
    "slideshow": {
     "slide_type": "fragment"
    }
   },
   "outputs": [
    {
     "data": {
      "image/png": "[encoded data removed]",
      "text/plain": [
       "<Figure size 640x480 with 1 Axes>"
      ]
     },
     "metadata": {},
     "output_type": "display_data"
    }
   ],
   "source": [
    "import numpy as np\n",
    "plt.xlabel('slippiness p')\n",
    "plt.ylabel('Expected cost until station')\n",
    "plt.title(\"Movement cost for fixed policy\")\n",
    "\n",
    "p = np.linspace(0.001, 0.999, 100)\n",
    "plt.axis((0,1,0,60))\n",
    "plot_func = eval(str(result).replace(\"^\", \"**\"))\n",
    "plt.plot(p, plot_func, linewidth=2);"
   ]
  },
  {
   "cell_type": "markdown",
   "metadata": {
    "slideshow": {
     "slide_type": "subslide"
    }
   },
   "source": [
    "### Step 4: Computing the regret"
   ]
  },
  {
   "cell_type": "markdown",
   "metadata": {},
   "source": [
    "- First, we find the best-case slipiness for p in [0.1, 0.2]\n",
    "- We also compute the associated expected movement cost "
   ]
  },
  {
   "cell_type": "code",
   "execution_count": 59,
   "metadata": {},
   "outputs": [
    {
     "name": "stdout",
     "output_type": "stream",
     "text": [
      "4938860044446623/562949953421312 or approx 8.773177818793384\n"
     ]
    }
   ],
   "source": [
    "import stormpy.pars as spp\n",
    "stormpy.set_loglevel_error()\n",
    "env = stormpy.Environment()\n",
    "checker = spp.create_region_checker(env, parametric_model, properties[0].raw_formula)\n",
    "region_string = \"0.1<=p<=0.2\"\n",
    "region = spp.ParameterRegion.create_from_string(region_string, parametric_model.collect_probability_parameters())\n",
    "precision = stormpy.RationalRF(0.01)\n",
    "best_case_result = checker.compute_extremum(env, region, stormpy.OptimizationDirection.Minimize, precision)\n",
    "print(str(best_case_result[0]) + \" or approx \" + str(float(best_case_result[0].constant_part())))"
   ]
  },
  {
   "cell_type": "markdown",
   "metadata": {
    "slideshow": {
     "slide_type": "fragment"
    }
   },
   "source": [
    "- We can now compare this value to the value by the scheduler"
   ]
  },
  {
   "cell_type": "code",
   "execution_count": 41,
   "metadata": {},
   "outputs": [
    {
     "name": "stdout",
     "output_type": "stream",
     "text": [
      "9.713210126685812\n"
     ]
    }
   ],
   "source": [
    "print(float(result.evaluate(best_case_result[1]))) "
   ]
  },
  {
   "cell_type": "markdown",
   "metadata": {
    "slideshow": {
     "slide_type": "slide"
    }
   },
   "source": [
    "## Simulation"
   ]
  },
  {
   "cell_type": "markdown",
   "metadata": {},
   "source": [
    "Storm supports gym-inspired bindings for simulations"
   ]
  },
  {
   "cell_type": "markdown",
   "metadata": {
    "slideshow": {
     "slide_type": "subslide"
    }
   },
   "source": [
    "### Variant 1: High-level simulators"
   ]
  },
  {
   "cell_type": "code",
   "execution_count": 60,
   "metadata": {},
   "outputs": [
    {
     "name": "stdout",
     "output_type": "stream",
     "text": [
      "(1,3) --south--> (2,3) --south--> (3,3) --west--> (3,4) --east--> (3,5) --north--> (2,5) --north--> (1,5)\n",
      "(1,3) --west--> (1,2) --west--> (1,1) --south--> (2,1) --north--> (1,1) --east--> (1,2) --east--> (1,3)\n",
      "(1,3) --east--> (1,4) --west--> (1,3) --west--> (1,4) --east--> (1,5) --south--> (2,5) --south--> (3,5)\n"
     ]
    }
   ],
   "source": [
    "import stormpy.simulator as ssim\n",
    "import random\n",
    "random.seed(3)\n",
    "simulator = ssim.create_simulator(program, seed=42)\n",
    "simulator.set_action_mode(ssim.SimulatorActionMode.GLOBAL_NAMES)\n",
    "\n",
    "paths = []\n",
    "for m in range(3):\n",
    "    path = []\n",
    "    state, reward, labels = simulator.restart()\n",
    "    path = [f\"({state['x']},{state['y']})\"]\n",
    "    for n in range(6):\n",
    "        actions = simulator.available_actions()\n",
    "        select_action = random.randint(0,len(actions)-1)\n",
    "        path.append(f\"--{actions[select_action]}-->\")\n",
    "        state, reward, labels = simulator.step(actions[select_action])\n",
    "        path.append(f\"({state['x']},{state['y']})\")\n",
    "        if simulator.is_done():\n",
    "            break\n",
    "    paths.append(path)\n",
    "for path in paths:\n",
    "    print(\" \".join(path))"
   ]
  },
  {
   "cell_type": "markdown",
   "metadata": {
    "slideshow": {
     "slide_type": "subslide"
    }
   },
   "source": [
    "### Variant 2: Model-level simulators"
   ]
  },
  {
   "cell_type": "code",
   "execution_count": 61,
   "metadata": {},
   "outputs": [
    {
     "name": "stdout",
     "output_type": "stream",
     "text": [
      "(1,3) --> (1,4) --> (1,3) --> (1,4) --> (1,3) --> (1,2) --> (1,3)\n",
      "(1,3) --> (1,2) --> (1,1) --> (2,1) --> (1,1) --> (2,1) --> (1,1)\n",
      "(1,3) --> (1,4) --> (1,3) --> (1,4) --> (1,3) --> (1,2) --> (1,3)\n"
     ]
    }
   ],
   "source": [
    "import stormpy.simulator as ssim\n",
    "import random\n",
    "random.seed(3)\n",
    "induced_model = model.apply_scheduler(scheduler)\n",
    "simulator = ssim.create_simulator(model.apply_scheduler(scheduler), seed=42)\n",
    "simulator.set_observation_mode(ssim.SimulatorObservationMode.PROGRAM_LEVEL)\n",
    "\n",
    "paths = []\n",
    "for m in range(3):\n",
    "    path = []\n",
    "    state, reward, labels = simulator.restart()\n",
    "    path = [f\"({state['x']},{state['y']})\"]\n",
    "    for n in range(6):\n",
    "        path.append(f\"-->\")\n",
    "        state, reward, labels = simulator.step()\n",
    "        path.append(f\"({state['x']},{state['y']})\")\n",
    "        if simulator.is_done():\n",
    "            break\n",
    "    paths.append(path)\n",
    "for path in paths:\n",
    "    print(\" \".join(path))"
   ]
  },
  {
   "cell_type": "markdown",
   "metadata": {
    "slideshow": {
     "slide_type": "slide"
    }
   },
   "source": [
    "# Summary"
   ]
  },
  {
   "cell_type": "markdown",
   "metadata": {},
   "source": [
    "- Support for wide variety of models and queries\n",
    "- Variety of methods and engines for advanced users\n",
    "- Python API (or C++ API) allows for flexible use of model checker as backend\n",
    "- Actively maintained and extended"
   ]
  },
  {
   "cell_type": "markdown",
   "metadata": {},
   "source": [
    "<img src=\"_static/images/aai-institute-cover.png\" alt=\"Snow\" style=\"width:100%;\">\n",
    "<div class=\"md-slide title\">Thank you for the attention!</div>"
   ]
  }
 ],
 "metadata": {
  "celltoolbar": "Slideshow",
  "hide_code_all_hidden": false,
  "kernelspec": {
   "display_name": "Python 3 (ipykernel)",
   "language": "python",
   "name": "python3"
  },
  "language_info": {
   "codemirror_mode": {
    "name": "ipython",
    "version": 3
   },
   "file_extension": ".py",
   "mimetype": "text/x-python",
   "name": "python",
   "nbconvert_exporter": "python",
   "pygments_lexer": "ipython3",
   "version": "3.11.2"
  },
  "livereveal": {
   "footer": "<h3>Sebastian Junges & Joost-Pieter Katoen | Tutorial 2023</h3>",
   "scroll": true
  },
  "rise": {
   "autolaunch": true,
   "start_slideshow_at": "beginning"
  }
 },
 "nbformat": 4,
 "nbformat_minor": 4
}
