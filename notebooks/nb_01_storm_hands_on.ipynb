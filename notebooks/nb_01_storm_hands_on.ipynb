{
 "cells": [
  {
   "cell_type": "code",
   "execution_count": null,
   "metadata": {
    "hide_input": true,
    "init_cell": true,
    "slideshow": {
     "slide_type": "skip"
    },
    "tags": [
     "remove-input",
     "remove-output",
     "remove-input-nbconv",
     "remove-output-nbconv"
    ]
   },
   "outputs": [],
   "source": [
    "%%capture\n",
    "\n",
    "%load_ext autoreload\n",
    "%autoreload 2\n",
    "%matplotlib inline\n",
    "%load_ext tfl_training_probabilistic_model_checking"
   ]
  },
  {
   "cell_type": "code",
   "execution_count": null,
   "metadata": {
    "hide_input": true,
    "init_cell": true,
    "slideshow": {
     "slide_type": "skip"
    },
    "tags": [
     "remove-input",
     "remove-input-nbconv"
    ]
   },
   "outputs": [
    {
     "data": {
      "text/html": [
       "<style>/*\n",
       "This file is mainly copy-pasta from rise's examples\n",
       "https://github.com/damianavila/RISE/blob/master/examples/rise.css\n",
       "that was further customized for appliedAI purposes\n",
       "*/\n",
       "@import url('https://fonts.googleapis.com/css2?family=Work+Sans:wght@400&display=swap');\n",
       "\n",
       "\n",
       "body {\n",
       "    font-family: 'Work Sans', sans-serif !important;\n",
       "    text-transform: initial !important;\n",
       "    letter-spacing: initial !important;\n",
       "    font-weight: 400 !important;\n",
       "    line-height: 1.5 !important;\n",
       "    text-size-adjust: 100% !important;\n",
       "    ‑webkit‑text‑size‑adjust: 100% !important;\n",
       "}\n",
       "\n",
       "\n",
       ".reveal, div.text_cell_render, .md-slide, .sidebar-wrapper {\n",
       "    font-size: 1.5rem !important;\n",
       "}\n",
       "\n",
       ".navbar-default .navbar-nav > li > a {\n",
       "    color: #00747b !important;\n",
       "}\n",
       "\n",
       ".filename {\n",
       "    font-size: 2.4rem !important;\n",
       "    color: #212529 !important;\n",
       "    font-weight: 600 !important;\n",
       "}\n",
       "\n",
       ".reveal, .md-slide {\n",
       "    color: white !important;\n",
       "}\n",
       "\n",
       "h1, h2 {\n",
       "    color: #00747b !important;\n",
       "}\n",
       "\n",
       "h3, h4, h5, h6 {\n",
       "    color: #808080 !important;\n",
       "}\n",
       "\n",
       ".reveal p, .reveal ol, .reveal dl, .reveal ul,\n",
       "div.text_cell_render {\n",
       "    color: #212529 !important;\n",
       "}\n",
       "\n",
       "/*copied from stackoverflow, better spacing between list items*/\n",
       "li + li {\n",
       "  margin-top: 0.2em;\n",
       "}\n",
       "\n",
       "body.rise-enabled .reveal ol, body.rise-enabled .reveal dl, body.rise-enabled .reveal ul {\n",
       "    margin-left: 0.1em;\n",
       "    margin-top: 0.2em;\n",
       "}\n",
       "\n",
       ".reveal .rendered_html h1:first-child,\n",
       ".reveal .rendered_html h2:first-child,\n",
       ".reveal .rendered_html h3:first-child,\n",
       ".reveal .rendered_html h4:first-child,\n",
       ".reveal .rendered_html h5:first-child {\n",
       "    margin-top: 0.2em;\n",
       "}\n",
       "\n",
       ".CodeMirror-lines, .output_text {\n",
       "    font-size: 1.5rem !important;\n",
       "}\n",
       "\n",
       "\n",
       "h1.plan, h2.plan, h3.plan {\n",
       "    text-align: center;\n",
       "    padding-bottom: 30px;\n",
       "}\n",
       "\n",
       "ul.plan>li>span.plan-bold {\n",
       "    font-size: 110%;\n",
       "    padding: 4px;\n",
       "    font-weight: bold;\n",
       "    background-color: #eee;\n",
       "}\n",
       "\n",
       "ul.plan>li>ul.subplan>li>span.plan-bold {\n",
       "    font-weight: bold;\n",
       "}\n",
       "\n",
       ".plan-strike {\n",
       "    opacity: 0.4;\n",
       "/*    text-decoration: line-through; */\n",
       "}\n",
       "\n",
       "div.plan-container {\n",
       "    display: grid;\n",
       "    grid-template-columns: 50% 50%;\n",
       "}\n",
       "\n",
       "/*\n",
       " * this is to void xarray's html output to show the fallback textual representation\n",
       " * see also\n",
       "   * xarray.md and\n",
       "   * https://github.com/damianavila/RISE/issues/594\n",
       " */\n",
       ".reveal pre.xr-text-repr-fallback {\n",
       "    display: none;\n",
       "}\n",
       "\n",
       "#toc-header, .toc-item li {\n",
       "    margin: auto !important;\n",
       "    color: #808080 !important;\n",
       "}\n",
       "\n",
       "#toc, #toc-wrapper, .toc-item-num, #toc a, .toc {\n",
       "    margin: auto !important;\n",
       "    color: #00747b !important;\n",
       "}\n",
       "\n",
       "#toc-wrapper {\n",
       "    top: auto !important;\n",
       "    bottom: auto !important;\n",
       "    margin-top: 2rem !important;\n",
       "    color: #00747b !important;\n",
       "}\n",
       "\n",
       "\n",
       "#rise-header {\n",
       "    margin: 10px;\n",
       "    left: 5%;\n",
       "}\n",
       "\n",
       "#rise-footer {\n",
       "    margin: 10px;\n",
       "    right: 5%;\n",
       "}\n",
       "\n",
       "#rise-backimage {\n",
       "    opacity: 0.70;\n",
       "}\n",
       "\n",
       ".reveal img {\n",
       "    max-width: 100%;\n",
       "}\n",
       "\n",
       "\n",
       ".md-slide.title {\n",
       "  position: relative;\n",
       "  top: -50%;\n",
       "  margin-left: 5%;\n",
       "}</style>"
      ],
      "text/plain": [
       "<IPython.core.display.HTML object>"
      ]
     },
     "execution_count": null,
     "metadata": {},
     "output_type": "execute_result"
    }
   ],
   "source": [
    "%presentation_style"
   ]
  },
  {
   "cell_type": "code",
   "execution_count": null,
   "metadata": {
    "hide_input": true,
    "init_cell": true,
    "slideshow": {
     "slide_type": "skip"
    },
    "tags": [
     "remove-input",
     "remove-output",
     "remove-input-nbconv",
     "remove-output-nbconv"
    ]
   },
   "outputs": [],
   "source": [
    "%%capture\n",
    "\n",
    "%set_random_seed 12"
   ]
  },
  {
   "cell_type": "code",
   "execution_count": null,
   "metadata": {
    "hide_input": true,
    "init_cell": true,
    "slideshow": {
     "slide_type": "skip"
    },
    "tags": [
     "remove-input-nbconv",
     "remove-cell"
    ]
   },
   "outputs": [
    {
     "data": {
      "text/markdown": [
       "\n",
       "$\\newcommand{\\vect}[1]{{\\mathbf{\\boldsymbol{#1}} }}$\n",
       "$\\newcommand{\\amax}{{\\text{argmax}}}$\n",
       "$\\newcommand{\\P}{{\\mathbb{P}}}$\n",
       "$\\newcommand{\\E}{{\\mathbb{E}}}$\n",
       "$\\newcommand{\\R}{{\\mathbb{R}}}$\n",
       "$\\newcommand{\\Z}{{\\mathbb{Z}}}$\n",
       "$\\newcommand{\\N}{{\\mathbb{N}}}$\n",
       "$\\newcommand{\\C}{{\\mathbb{C}}}$\n",
       "$\\newcommand{\\abs}[1]{{ \\left| #1 \\right| }}$\n",
       "$\\newcommand{\\simpl}[1]{{\\Delta^{#1} }}$\n"
      ],
      "text/plain": [
       "<IPython.core.display.Markdown object>"
      ]
     },
     "metadata": {},
     "output_type": "display_data"
    }
   ],
   "source": [
    "%load_latex_macros"
   ]
  },
  {
   "cell_type": "markdown",
   "metadata": {
    "slideshow": {
     "slide_type": "slide"
    }
   },
   "source": [
    "<center>\n",
    "    <h1>Introduction to Storm</h1>\n",
    "    <h2>Sebastian Junges and Joost-Pieter Katoen</h2>\n",
    "    <h3>using material by the Storm Developers</h3>\n",
    "    <br>\n",
    "    <br>\n",
    "<img src=\"attachment:storm_logo.png\" width=\"500px\"/></center>\n",
    "\n",
    "**<center>[www.stormchecker.org](https://www.stormchecker.org)</center>**\n",
    "\n",
    "<div align=\"right\">Press <em>spacebar</em> to navigate</div>"
   ]
  },
  {
   "cell_type": "markdown",
   "metadata": {
    "slideshow": {
     "slide_type": "slide"
    }
   },
   "source": [
    "## Storm\n",
    "A modern probabilistic model checker\n",
    "- **State-of-the-art**: best performance at [QComp 2020](http://qcomp.org/competition/2020/index.html)\n",
    "- **Modular**: dedicated solvers for each task, interchangable libraries\n",
    "- Written in **C++**, **Python interface** via [stormpy](https://moves-rwth.github.io/stormpy/)\n",
    "- **Open-source**, developed since 2012, over 230,000 lines of code\n",
    "\n",
    "### Getting Storm\n",
    "- Native support for *Linux* and *macOS* (homebrew formula)\n",
    "- Virtual machine and Docker containers (also for *Windows*)"
   ]
  },
  {
   "cell_type": "markdown",
   "metadata": {
    "slideshow": {
     "slide_type": "subslide"
    }
   },
   "source": [
    "## Getting Storm for this presentation\n",
    "We use a [Docker container](https://www.docker.com/) based on [Jupyter Notebook](https://jupyter.org/) throughout this presentation.\n",
    "#### Installation steps:\n",
    "1. Install [Docker](https://docs.docker.com/get-docker/) for your OS\n",
    "2. Download (>1 GB) and start the container:\n",
    "```bash\n",
    "docker run -it -p 8080:8080 --name stormpyter sjunges/stormpyter:uai22\n",
    "```\n",
    "3. Open the Jupyter website indicated in the command line:\n",
    "[127.0.0.1:8080/...](http://127.0.0.1:8080)\n",
    "4. Open file **tutorial.ipynb**\n",
    "5. The presentation should start automatically"
   ]
  },
  {
   "cell_type": "markdown",
   "metadata": {
    "slideshow": {
     "slide_type": "subslide"
    }
   },
   "source": [
    "## Hands-on presentation\n",
    "\n",
    "- This is an interactive presentation. You can **execute all commands by yourself**!\n",
    "- Navigate with *spacebar* and *shift+spacebar*\n",
    "- All interactive commands can be executed with *shift+enter*\n",
    "- Switch between presentation and notebook with *alt+r*"
   ]
  },
  {
   "cell_type": "markdown",
   "metadata": {
    "slideshow": {
     "slide_type": "subslide"
    }
   },
   "source": [
    "### Example"
   ]
  },
  {
   "cell_type": "code",
   "execution_count": null,
   "metadata": {
    "slideshow": {
     "slide_type": "subslide"
    }
   },
   "outputs": [],
   "source": [
    "%alias storm storm #ALWAYS RUN THIS by clicking here and pressing shift+enter"
   ]
  },
  {
   "cell_type": "code",
   "execution_count": null,
   "metadata": {
    "slideshow": {
     "slide_type": "subslide"
    }
   },
   "outputs": [],
   "source": [
    "storm  # This should not throw an error. If it does, execute the command above"
   ]
  },
  {
   "cell_type": "markdown",
   "metadata": {
    "slideshow": {
     "slide_type": "subslide"
    }
   },
   "source": [
    "You should see the Storm version information.\n",
    "\n",
    "You can even **change the code**! Try adding the flag `--version`."
   ]
  },
  {
   "cell_type": "markdown",
   "metadata": {
    "slideshow": {
     "slide_type": "subslide"
    }
   },
   "source": [
    "## Knuth-Yao Die\n"
   ]
  },
  {
   "cell_type": "markdown",
   "metadata": {},
   "source": [
    "![KYDie-depicted.png](attachment:KYDie-depicted.png)"
   ]
  },
  {
   "cell_type": "markdown",
   "metadata": {},
   "source": [
    "This models a dice roll with a fair coin"
   ]
  },
  {
   "cell_type": "markdown",
   "metadata": {},
   "source": [
    "## Knuth-Yao Die"
   ]
  },
  {
   "cell_type": "markdown",
   "metadata": {},
   "source": [
    "![KYDie-depicted.png](attachment:KYDie-depicted.png)"
   ]
  },
  {
   "cell_type": "code",
   "execution_count": null,
   "metadata": {},
   "outputs": [],
   "source": [
    "!tail -n+3 examples/kydie.drn | head -n 25"
   ]
  },
  {
   "cell_type": "markdown",
   "metadata": {},
   "source": [
    "## Running Storm on KY-Die"
   ]
  },
  {
   "cell_type": "code",
   "execution_count": null,
   "metadata": {},
   "outputs": [],
   "source": [
    "storm --explicit-drn examples/kydie.drn --buildfull"
   ]
  },
  {
   "cell_type": "markdown",
   "metadata": {},
   "source": [
    "### Computing Reachability Probabilities"
   ]
  },
  {
   "cell_type": "code",
   "execution_count": null,
   "metadata": {},
   "outputs": [],
   "source": [
    "storm --explicit-drn examples/kydie.drn --prop 'P=? [F \"out3\" ]' | tail -n+7"
   ]
  },
  {
   "cell_type": "markdown",
   "metadata": {},
   "source": [
    "### Computing Exected Time (steps)"
   ]
  },
  {
   "cell_type": "code",
   "execution_count": null,
   "metadata": {},
   "outputs": [],
   "source": [
    "storm --explicit-drn examples/kydie.drn --prop 'T=? [F \"done\" ]' | tail -n+7"
   ]
  },
  {
   "cell_type": "markdown",
   "metadata": {},
   "source": [
    "## Input formats\n",
    "- Storm supports a variety of input formats:\n",
    "    - [Prism language](https://www.prismmodelchecker.org/manual/ThePRISMLanguage/Introduction)\n",
    "    - [Jani modelling language](http://www.jani-spec.org/)\n",
    "    - Explicit format\n",
    "    - Generalized stochastic Petri nets\n",
    "    - Domain specific languages, e.g., Dynamic Fault Trees"
   ]
  },
  {
   "cell_type": "markdown",
   "metadata": {},
   "source": [
    "## Intro to Prism format"
   ]
  },
  {
   "cell_type": "markdown",
   "metadata": {},
   "source": [
    "## KY-die with Prism\n",
    "\n",
    "Naive encoding:\n",
    "- Variable *s* encodes the state\n",
    "- Describe an update for every state\n",
    "- Single module"
   ]
  },
  {
   "cell_type": "code",
   "execution_count": null,
   "metadata": {},
   "outputs": [],
   "source": [
    "!tail -n20 examples/kydie-naive.prism | head -n 16"
   ]
  },
  {
   "cell_type": "markdown",
   "metadata": {},
   "source": [
    "## Single-Module Prism\n",
    "\n",
    " - A module contains declarations of (local) variables and commands.\n",
    " \n",
    " - Commands\n",
    "\n",
    "  $$\n",
    "\\textbf{[}action\\textbf{]}~ \\text{guard} ~\\textbf{->}~ \\text{probability}\\textbf{:} \\text{update} \\textbf{ + }\\text{probability}\\textbf{:} \\text{update} + \\dots\n",
    "  $$\n",
    "\n",
    "    - *action*: Synchronization label (may be empty)\n",
    "    - *guard*: Boolean combination of inequalities involving local and global variables\n",
    "    - *probability*: expression  between 0 and 1. The probabilities of each command have to sum up to 1.\n",
    "    - *update*: Assigns new values to (a subset of) the variables. \n",
    "    $$\\texttt{var}' = f(\\texttt{vars})$$\n",
    "\n",
    "- Every action refers to an action in the MDP"
   ]
  },
  {
   "cell_type": "markdown",
   "metadata": {},
   "source": [
    "## Gridworld with Prism\n",
    "\n",
    "- Robot in an N by N grid\n",
    "- Own position given by x,y\n",
    "- Up to 4 actions"
   ]
  },
  {
   "cell_type": "code",
   "execution_count": null,
   "metadata": {},
   "outputs": [],
   "source": [
    "!cat examples/grid.prism"
   ]
  },
  {
   "cell_type": "markdown",
   "metadata": {},
   "source": [
    "## Gridworld with Prism\n",
    "\n",
    "- Robot in an N by N grid\n",
    "- Own position given by x,y\n",
    "- Up to 4 actions"
   ]
  },
  {
   "cell_type": "code",
   "execution_count": null,
   "metadata": {},
   "outputs": [],
   "source": [
    "storm --prism examples/grid.prism -const N=6 | tail -n+6 | head -n 10"
   ]
  },
  {
   "cell_type": "code",
   "execution_count": null,
   "metadata": {},
   "outputs": [],
   "source": [
    "storm --prism examples/grid.prism -const N=60 --prop \"Tmin=? [F y=N & x=N]\" | tail -n 3"
   ]
  },
  {
   "cell_type": "markdown",
   "metadata": {},
   "source": [
    "# Advanced properties\n",
    "\n",
    "We consider a selection of slightly more advanced queries"
   ]
  },
  {
   "cell_type": "markdown",
   "metadata": {},
   "source": [
    "We therefore also extend the MDP description..."
   ]
  },
  {
   "cell_type": "code",
   "execution_count": null,
   "metadata": {},
   "outputs": [],
   "source": [
    "!tail -n 10 examples/grid_complete.prism"
   ]
  },
  {
   "cell_type": "markdown",
   "metadata": {},
   "source": [
    "## Cost-bounded reachability\n",
    "\n",
    "- Simple extension to reachability\n",
    "- Storm can handle multi-reward-bounded formulas and compute quantiles"
   ]
  },
  {
   "cell_type": "code",
   "execution_count": null,
   "metadata": {},
   "outputs": [],
   "source": [
    "storm --prism examples/grid_complete.prism -const N=30 --prop \"Pmax=? [F{\\\"movementcost\\\"}<=40 \\\"castle\\\"]\" | tail -n+8"
   ]
  },
  {
   "cell_type": "markdown",
   "metadata": {},
   "source": [
    "## LTL properties"
   ]
  },
  {
   "cell_type": "code",
   "execution_count": null,
   "metadata": {},
   "outputs": [],
   "source": [
    "storm --prism examples/grid_complete.prism -const N=6 --prop \"Pmax=? [GF \\\"station\\\" & GF \\\"castle\\\"]\" | tail -n 3"
   ]
  },
  {
   "cell_type": "code",
   "execution_count": null,
   "metadata": {},
   "outputs": [],
   "source": [
    "storm --prism examples/grid_complete.prism -const N=6 --prop \"Pmax=? [F<=7 \\\"station\\\" & F<=7 \\\"castle\\\"]\" | tail -n 3"
   ]
  },
  {
   "cell_type": "code",
   "execution_count": null,
   "metadata": {},
   "outputs": [],
   "source": [
    "storm --prism examples/grid_complete.prism -const N=6 --prop \"Pmax=? [F<=7 \\\"station\\\"];Pmax=? [F<=7 \\\"castle\\\"]\" | tail -n7"
   ]
  },
  {
   "cell_type": "markdown",
   "metadata": {},
   "source": [
    "## Extracting Policies ('Schedulers')"
   ]
  },
  {
   "cell_type": "code",
   "execution_count": null,
   "metadata": {},
   "outputs": [],
   "source": [
    "storm --prism examples/grid.prism -const N=6 --prop \"Tmin=? [F x=3 & y > 4]\" --exportscheduler plain.sched | tail -n8"
   ]
  },
  {
   "cell_type": "code",
   "execution_count": null,
   "metadata": {},
   "outputs": [],
   "source": [
    "!head -n10 plain.sched"
   ]
  },
  {
   "cell_type": "markdown",
   "metadata": {},
   "source": [
    "## Extracting Policies "
   ]
  },
  {
   "cell_type": "code",
   "execution_count": null,
   "metadata": {},
   "outputs": [],
   "source": [
    "storm --prism examples/grid.prism -const N=6 --prop \"Tmin=? [F x=3 & y > 4]\" --exportscheduler high.sched --buildchoicelab --buildstateval | tail -n4"
   ]
  },
  {
   "cell_type": "code",
   "execution_count": null,
   "metadata": {},
   "outputs": [],
   "source": [
    "!head -n10 high.sched"
   ]
  },
  {
   "cell_type": "markdown",
   "metadata": {},
   "source": [
    "# Methods and Engines"
   ]
  },
  {
   "cell_type": "markdown",
   "metadata": {},
   "source": [
    "## Computing exact values\n",
    "- Floating point arithmetic and convergence criteria might not be precise  \n",
    "  &#10140; use exact (rational) numbers and sound algorithms off-the-shelf\n",
    "- Drawback: performance decreases"
   ]
  },
  {
   "cell_type": "code",
   "execution_count": null,
   "metadata": {},
   "outputs": [],
   "source": [
    "storm --explicit-drn examples/kydie.drn --prop 'P=? [F \"out1\"]' | tail -n2"
   ]
  },
  {
   "cell_type": "code",
   "execution_count": null,
   "metadata": {},
   "outputs": [],
   "source": [
    "storm --explicit-drn examples/kydie.drn --prop 'P=? [F \"out1\"]' --exact | tail -n2"
   ]
  },
  {
   "cell_type": "markdown",
   "metadata": {},
   "source": [
    "## Different methods\n",
    "- Variations of value iteration with stronger guarantees\n",
    "- Policy iteration, hybrid methods\n",
    "- Abstraction-based approaches"
   ]
  },
  {
   "cell_type": "code",
   "execution_count": null,
   "metadata": {},
   "outputs": [],
   "source": [
    "storm --prism examples/grid_complete.prism -const N=40 --prop \"Tmin=? [F x=3 & y>4]\" --minmax:method lp | tail -n3"
   ]
  },
  {
   "cell_type": "code",
   "execution_count": null,
   "metadata": {},
   "outputs": [],
   "source": [
    "storm --prism examples/grid_complete.prism -const N=40 --prop \"Tmin=? [F x=3 & y>4]\" --minmax:method vi | tail -n3"
   ]
  },
  {
   "cell_type": "markdown",
   "metadata": {},
   "source": [
    "## Engines in Storm\n",
    "Storm supports different model representations:\n",
    "- **Sparse matrix**:\n",
    "    - Model building is time and memory intensive\n",
    "    - Fast numerical computations\n",
    "- **Binary Decision Diagrams (BDD)**:\n",
    "    - Fast and memory efficient model building if model is structured\n",
    "    - Slower numerical computations\n",
    "- **Hybrid** approach:\n",
    "    - Build with BDD, use sparse matrix for numerical computations\n",
    "- ..."
   ]
  },
  {
   "cell_type": "markdown",
   "metadata": {},
   "source": [
    "## Engines in Storm"
   ]
  },
  {
   "cell_type": "code",
   "execution_count": null,
   "metadata": {},
   "outputs": [],
   "source": [
    "storm --prism examples/grid.prism -const N=800 --prop 'Tmin=? [F x=3 & y > 4]' -e dd --minmax:method vi | tail -n 3"
   ]
  },
  {
   "cell_type": "code",
   "execution_count": null,
   "metadata": {},
   "outputs": [],
   "source": [
    "storm --prism examples/grid.prism -const N=800 --prop 'Tmin=? [F x=3 & y > 4]' -e sparse --minmax:method vi | tail -n 3"
   ]
  },
  {
   "cell_type": "markdown",
   "metadata": {},
   "source": [
    "## Bisimulation minimization\n",
    "- Reduces state-space size without loosing information\n",
    "- Exploits symmetries"
   ]
  },
  {
   "cell_type": "code",
   "execution_count": null,
   "metadata": {},
   "outputs": [],
   "source": [
    "storm --bisimulation --prism examples/phil-nofair3.nm --prop 'filter(forall, P>=1 [F \"eat\"], \"hungry\")' |tail -n+9 | head -n 30"
   ]
  },
  {
   "cell_type": "markdown",
   "metadata": {},
   "source": [
    "## Summary\n",
    "- Basic introduction to **Storm command-line interface**\n",
    "- Storm supports broad range of **models and properties** given in high-level description languages\n",
    "- Different **engines** allow tailored analysis per model and property\n",
    "\n",
    "### Next:\n",
    "Model checking **in the loop** using Stormpy"
   ]
  },
  {
   "cell_type": "markdown",
   "metadata": {},
   "source": [
    "# Intro to Stormpy"
   ]
  },
  {
   "cell_type": "markdown",
   "metadata": {},
   "source": [
    "- Basic model checking\n",
    "- Tradeoff analysis\n",
    "- Robustness analysis\n",
    "- Simulation engines"
   ]
  },
  {
   "cell_type": "code",
   "execution_count": null,
   "metadata": {},
   "outputs": [],
   "source": [
    "import stormpy\n",
    "import stormpy.info\n",
    "\n",
    "print(\n",
    "    \"Stormpy version: \"\n",
    "    + stormpy.__version__\n",
    "    + \" using Storm in version: \"\n",
    "    + stormpy.info.storm_version()\n",
    ")"
   ]
  },
  {
   "cell_type": "markdown",
   "metadata": {},
   "source": [
    "## Basic Model Checking"
   ]
  },
  {
   "cell_type": "markdown",
   "metadata": {},
   "source": [
    "- Parse input-description and translate into MDP"
   ]
  },
  {
   "cell_type": "code",
   "execution_count": null,
   "metadata": {},
   "outputs": [],
   "source": [
    "orig_program = stormpy.parse_prism_program(\"examples/grid_slip_forward.prism\")\n",
    "program = orig_program.define_constants(\n",
    "    stormpy.parse_constants_string(orig_program.expression_manager, \"N=6,p=0.9,q=0.7\")\n",
    ")"
   ]
  },
  {
   "cell_type": "code",
   "execution_count": null,
   "metadata": {},
   "outputs": [],
   "source": [
    "options = stormpy.BuilderOptions(True, True)\n",
    "options.set_build_state_valuations()\n",
    "options.set_build_choice_labels()\n",
    "model = stormpy.build_sparse_model_with_options(program, options)\n",
    "print(\"Number of states: {}\".format(model.nr_states))\n",
    "print(\"Labels: {}\".format(model.labeling.get_labels()))"
   ]
  },
  {
   "cell_type": "markdown",
   "metadata": {},
   "source": [
    "- Run model checking query"
   ]
  },
  {
   "cell_type": "code",
   "execution_count": null,
   "metadata": {},
   "outputs": [],
   "source": [
    "properties = stormpy.parse_properties('Pmax=? [F<=8 \"station\"]')\n",
    "result = stormpy.model_checking(model, properties[0])\n",
    "print(result.at(model.initial_states[0]))"
   ]
  },
  {
   "cell_type": "markdown",
   "metadata": {},
   "source": [
    "## Tradeoff analysis"
   ]
  },
  {
   "cell_type": "markdown",
   "metadata": {},
   "source": [
    "- Find values that can be achieved by a single policy"
   ]
  },
  {
   "cell_type": "code",
   "execution_count": null,
   "metadata": {},
   "outputs": [],
   "source": [
    "import matplotlib.pyplot as plt\n",
    "from stormpy.utility.multiobjective_plotting import (\n",
    "    plot_convex_pareto_curve_demo,\n",
    "    prepare_multiobjective_result_for_plotting,\n",
    ")\n",
    "\n",
    "properties = stormpy.parse_properties_for_prism_program(\n",
    "    'multi(Pmax=? [ F<=11 \"castle\" ], Pmax=? [ F<=8 \"station\" ])', program\n",
    ")\n",
    "result = stormpy.model_checking(model, properties[0])\n",
    "print(result.get_underapproximation().vertices)"
   ]
  },
  {
   "cell_type": "markdown",
   "metadata": {},
   "source": [
    "- Plot the outcome"
   ]
  },
  {
   "cell_type": "code",
   "execution_count": null,
   "metadata": {},
   "outputs": [],
   "source": [
    "lower_left = [0, 0]\n",
    "upper_right = [1, 1]\n",
    "formula = properties[0].raw_formula\n",
    "fig, ax = plt.subplots()\n",
    "\n",
    "underapprox_points, overapprox_points = prepare_multiobjective_result_for_plotting(\n",
    "    result, lower_left, upper_right, formula\n",
    ")\n",
    "plot_convex_pareto_curve_demo(\n",
    "    ax, underapprox_points, overapprox_points, lower_left, upper_right\n",
    ")\n",
    "ax.set_xlabel(formula.subformulas[0])\n",
    "ax.set_ylabel(formula.subformulas[1])"
   ]
  },
  {
   "cell_type": "markdown",
   "metadata": {},
   "source": [
    "## Robustness with Parametric Checking"
   ]
  },
  {
   "cell_type": "markdown",
   "metadata": {},
   "source": [
    "### Step 1: Compute an optimal policy"
   ]
  },
  {
   "cell_type": "code",
   "execution_count": null,
   "metadata": {},
   "outputs": [],
   "source": [
    "properties = stormpy.parse_properties('R{\"movecost\"}min=? [ F \"station\"]')\n",
    "result = stormpy.model_checking(model, properties[0], extract_scheduler=True)\n",
    "scheduler = result.scheduler\n",
    "print(result.at(model.initial_states[0]))"
   ]
  },
  {
   "cell_type": "markdown",
   "metadata": {},
   "source": [
    "### Step 2: Set-up an MDP with parametric slipiness"
   ]
  },
  {
   "cell_type": "code",
   "execution_count": null,
   "metadata": {},
   "outputs": [],
   "source": [
    "program2 = orig_program.define_constants(\n",
    "    stormpy.parse_constants_string(orig_program.expression_manager, \"N=6, q=p\")\n",
    ")\n",
    "parametric_model = stormpy.build_sparse_parametric_model_with_options(program2, options)\n",
    "print(\"Number of states: {}\".format(model.nr_states))\n",
    "print(\"Number of transitions: {}\".format(model.nr_transitions))\n",
    "print(\"Labels: {}\".format(model.labeling.get_labels()))"
   ]
  },
  {
   "cell_type": "markdown",
   "metadata": {},
   "source": [
    "### Step 3: Apply the policy on this parametetric MDP and evaluate performance"
   ]
  },
  {
   "cell_type": "code",
   "execution_count": null,
   "metadata": {},
   "outputs": [],
   "source": [
    "induced_model = parametric_model.apply_scheduler(\n",
    "    scheduler.cast_to_parametric_datatype()\n",
    ")"
   ]
  },
  {
   "cell_type": "code",
   "execution_count": null,
   "metadata": {},
   "outputs": [],
   "source": [
    "result = stormpy.model_checking(induced_model, properties[0]).at(\n",
    "    induced_model.initial_states[0]\n",
    ")\n",
    "print(result)"
   ]
  },
  {
   "cell_type": "code",
   "execution_count": null,
   "metadata": {},
   "outputs": [],
   "source": [
    "import numpy as np\n",
    "\n",
    "plt.xlabel(\"slippiness p\")\n",
    "plt.ylabel(\"Expected cost until station\")\n",
    "plt.title(\"Movement cost for fixed policy\")\n",
    "\n",
    "p = np.linspace(0.001, 0.999, 100)\n",
    "plt.axis((0, 1, 0, 60))\n",
    "plot_func = eval(str(result).replace(\"^\", \"**\"))\n",
    "plt.plot(p, plot_func, linewidth=2);"
   ]
  },
  {
   "cell_type": "markdown",
   "metadata": {},
   "source": [
    "### Step 4: Computing the regret"
   ]
  },
  {
   "cell_type": "markdown",
   "metadata": {},
   "source": [
    "- First, we find the best-case slipiness for p in [0.1, 0.2]\n",
    "- We also compute the associated expected movement cost "
   ]
  },
  {
   "cell_type": "code",
   "execution_count": null,
   "metadata": {},
   "outputs": [],
   "source": [
    "import stormpy.pars as spp\n",
    "\n",
    "stormpy.set_loglevel_error()\n",
    "env = stormpy.Environment()\n",
    "checker = spp.create_region_checker(env, parametric_model, properties[0].raw_formula)\n",
    "region_string = \"0.1<=p<=0.2\"\n",
    "region = spp.ParameterRegion.create_from_string(\n",
    "    region_string, parametric_model.collect_probability_parameters()\n",
    ")\n",
    "precision = stormpy.RationalRF(0.01)\n",
    "best_case_result = checker.compute_extremum(\n",
    "    env, region, stormpy.OptimizationDirection.Minimize, precision\n",
    ")\n",
    "print(\n",
    "    str(best_case_result[0])\n",
    "    + \" or approx \"\n",
    "    + str(float(best_case_result[0].constant_part()))\n",
    ")"
   ]
  },
  {
   "cell_type": "markdown",
   "metadata": {},
   "source": [
    "- We can now compare this value to the value by the scheduler"
   ]
  },
  {
   "cell_type": "code",
   "execution_count": null,
   "metadata": {},
   "outputs": [],
   "source": [
    "print(float(result.evaluate(best_case_result[1])))"
   ]
  },
  {
   "cell_type": "markdown",
   "metadata": {},
   "source": [
    "## Simulation"
   ]
  },
  {
   "cell_type": "markdown",
   "metadata": {},
   "source": [
    "Storm supports gym-inspired bindings for simulations"
   ]
  },
  {
   "cell_type": "markdown",
   "metadata": {},
   "source": [
    "### Variant 1: High-level simulators"
   ]
  },
  {
   "cell_type": "code",
   "execution_count": null,
   "metadata": {},
   "outputs": [],
   "source": [
    "import random\n",
    "\n",
    "import stormpy.simulator as ssim\n",
    "\n",
    "random.seed(3)\n",
    "simulator = ssim.create_simulator(program, seed=42)\n",
    "simulator.set_action_mode(ssim.SimulatorActionMode.GLOBAL_NAMES)\n",
    "\n",
    "paths = []\n",
    "for m in range(3):\n",
    "    path = []\n",
    "    state, reward, labels = simulator.restart()\n",
    "    path = [f\"({state['x']},{state['y']})\"]\n",
    "    for n in range(6):\n",
    "        actions = simulator.available_actions()\n",
    "        select_action = random.randint(0, len(actions) - 1)\n",
    "        path.append(f\"--{actions[select_action]}-->\")\n",
    "        state, reward, labels = simulator.step(actions[select_action])\n",
    "        path.append(f\"({state['x']},{state['y']})\")\n",
    "        if simulator.is_done():\n",
    "            break\n",
    "    paths.append(path)\n",
    "for path in paths:\n",
    "    print(\" \".join(path))"
   ]
  },
  {
   "cell_type": "markdown",
   "metadata": {},
   "source": [
    "### Variant 2: Model-level simulators"
   ]
  },
  {
   "cell_type": "code",
   "execution_count": null,
   "metadata": {},
   "outputs": [],
   "source": [
    "import random\n",
    "\n",
    "import stormpy.simulator as ssim\n",
    "\n",
    "random.seed(3)\n",
    "induced_model = model.apply_scheduler(scheduler)\n",
    "simulator = ssim.create_simulator(model.apply_scheduler(scheduler), seed=42)\n",
    "simulator.set_observation_mode(ssim.SimulatorObservationMode.PROGRAM_LEVEL)\n",
    "\n",
    "paths = []\n",
    "for m in range(3):\n",
    "    path = []\n",
    "    state, reward, labels = simulator.restart()\n",
    "    path = [f\"({state['x']},{state['y']})\"]\n",
    "    for n in range(6):\n",
    "        path.append(f\"-->\")\n",
    "        state, reward, labels = simulator.step()\n",
    "        path.append(f\"({state['x']},{state['y']})\")\n",
    "        if simulator.is_done():\n",
    "            break\n",
    "    paths.append(path)\n",
    "for path in paths:\n",
    "    print(\" \".join(path))"
   ]
  },
  {
   "cell_type": "markdown",
   "metadata": {},
   "source": [
    "# Summary"
   ]
  },
  {
   "cell_type": "markdown",
   "metadata": {},
   "source": [
    "<img src=\"_static/images/aai-institute-cover.svg\" alt=\"Snow\" style=\"width:100%;\">\n",
    "<div class=\"md-slide title\">Thank you for the attention!</div>"
   ]
  }
 ],
 "metadata": {
  "celltoolbar": "Slideshow",
  "kernelspec": {
   "display_name": "Python 3 (ipykernel)",
   "language": "python",
   "name": "python3"
  },
  "language_info": {
   "codemirror_mode": {
    "name": "ipython",
    "version": 3
   },
   "file_extension": ".py",
   "mimetype": "text/x-python",
   "name": "python",
   "nbconvert_exporter": "python",
   "pygments_lexer": "ipython3",
   "version": "3.11.3"
  },
  "rise": {
   "footer": "<img src='_static/images/aai-logo.png' alt='logo' height='50em'>",
   "header": "<img src='_static/images/transferlab-logo.svg' alt='logo' height='20em' />",
   "theme": "white"
  },
  "toc": {
   "base_numbering": 1,
   "nav_menu": {
    "height": "148px",
    "width": "256px"
   },
   "number_sections": false,
   "sideBar": true,
   "skip_h1_title": false,
   "title_cell": "Table of Contents",
   "title_sidebar": "Contents",
   "toc_cell": false,
   "toc_position": {
    "height": "563.2px",
    "left": "125px",
    "top": "116.469px",
    "width": "362.647034px"
   },
   "toc_section_display": true,
   "toc_window_display": true
  },
  "varInspector": {
   "cols": {
    "lenName": 16,
    "lenType": 16,
    "lenVar": 40
   },
   "kernels_config": {
    "python": {
     "delete_cmd_postfix": "",
     "delete_cmd_prefix": "del ",
     "library": "var_list.py",
     "varRefreshCmd": "print(var_dic_list())"
    },
    "r": {
     "delete_cmd_postfix": ") ",
     "delete_cmd_prefix": "rm(",
     "library": "var_list.r",
     "varRefreshCmd": "cat(var_dic_list()) "
    }
   },
   "types_to_exclude": [
    "module",
    "function",
    "builtin_function_or_method",
    "instance",
    "_Feature"
   ],
   "window_display": false
  }
 },
 "nbformat": 4,
 "nbformat_minor": 4
}
