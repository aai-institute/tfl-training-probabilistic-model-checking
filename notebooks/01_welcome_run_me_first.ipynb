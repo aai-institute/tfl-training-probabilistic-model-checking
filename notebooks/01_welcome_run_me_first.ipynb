{
 "cells": [
  {
   "cell_type": "code",
   "execution_count": 1,
   "metadata": {},
   "outputs": [
    {
     "name": "stdout",
     "output_type": "stream",
     "text": [
      "/Users/fariedabuzaid/Projects/tfl-training-probabilistic-model-checking\n",
      "mkdir: notebooks/examples: File exists\n"
     ]
    }
   ],
   "source": [
    "# Run to setup environment\n",
    "%cd ..\n",
    "%run scripts/download_data.py\n",
    "%mkdir notebooks/examples\n",
    "%cp data/* notebooks/examples/ \n"
   ]
  },
  {
   "cell_type": "markdown",
   "metadata": {},
   "source": [
    "<center>\n",
    "    <h1>Verifying Systems in the Face of Uncertainty</h1>\n",
    "    <h2>Joost-Pieter Katoen and Sebastian Junges</h2>\n",
    "    <h3>using material by the Storm Developers</h3>\n",
    "    <br>\n",
    "    <br>\n",
    "<img src=\"./_static/images/storm-logo.png\" width=\"500px\"/></center>\n",
    "\n",
    "**<center>[www.stormchecker.org](https://www.stormchecker.org)</center>**\n",
    "\n",
    "<div align=\"right\">Press <em>spacebar</em> to navigate</div>"
   ]
  },
  {
   "cell_type": "markdown",
   "metadata": {},
   "source": [
    "# Agenda\n",
    "| Day No. | Title                                             | Duration |   Schedule    |\n",
    "|:-------:|---------------------------------------------------|:--------:|:-------------:|\n",
    "|    1    | Greeting and setting up the execution environment |  15 min  | 09:00 - 09:15 |\n",
    "|    1    | what is probabilistic model checking?             |  60 min  | 09:15 - 10:15 |\n",
    "|    1    | Demo                                              |  30 min  | 10:15 - 10:45 |\n",
    "|    1    | Coffee break                                      |  15 min  | 10:45 - 11:00 |\n",
    "|    1    | Fault trees                                       |  45 min  | 11:00 - 11:45 |\n",
    "|    1    | Parameter synthesis                               |  30 min  | 11:45 - 12:15 |\n",
    "|    1    | Hands-on exercise                                 |  30 min  | 12:15 - 12:45 |"
   ]
  },
  {
   "cell_type": "code",
   "execution_count": null,
   "metadata": {},
   "outputs": [],
   "source": []
  }
 ],
 "metadata": {
  "celltoolbar": "Slideshow",
  "hide_code_all_hidden": false,
  "kernelspec": {
   "display_name": "Python 3 (ipykernel)",
   "language": "python",
   "name": "python3"
  },
  "language_info": {
   "codemirror_mode": {
    "name": "ipython",
    "version": 3
   },
   "file_extension": ".py",
   "mimetype": "text/x-python",
   "name": "python",
   "nbconvert_exporter": "python",
   "pygments_lexer": "ipython3",
   "version": "3.11.5"
  },
  "livereveal": {
   "footer": "<h3>Matthias Volk</h3>",
   "scroll": true
  },
  "rise": {
   "autolaunch": true,
   "start_slideshow_at": "beginning"
  }
 },
 "nbformat": 4,
 "nbformat_minor": 4
}
